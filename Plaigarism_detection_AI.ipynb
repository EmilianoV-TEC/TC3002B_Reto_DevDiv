{
 "cells": [
  {
   "cell_type": "code",
   "execution_count": 1,
   "metadata": {},
   "outputs": [],
   "source": [
    "import os\n",
    "import glob\n",
    "import numpy as np\n",
    "import pandas as pd\n",
    "import javalang"
   ]
  },
  {
   "cell_type": "code",
   "execution_count": 2,
   "metadata": {},
   "outputs": [],
   "source": [
    "def getNgrams(n, text,allNgrams):\n",
    "    nGrams = {}\n",
    "    for i in range(len(text)-n+1):\n",
    "        current = text[i]\n",
    "        for j in range(i+1,n+i):\n",
    "            current += \" \" + (text[j])\n",
    "        if current not in allNgrams:\n",
    "            allNgrams.append(current)\n",
    "        if current not in nGrams:\n",
    "            nGrams[current] = 1\n",
    "        else:\n",
    "            nGrams[current] += 1\n",
    "    return nGrams,allNgrams"
   ]
  },
  {
   "cell_type": "code",
   "execution_count": 3,
   "metadata": {},
   "outputs": [],
   "source": [
    "def getVector(word_list, full_word_list):\n",
    "    vector = []\n",
    "    for word in full_word_list:\n",
    "        if word not in word_list:\n",
    "            vector.append(0)\n",
    "        else:\n",
    "            vector.append(word_list[word])\n",
    "    return vector"
   ]
  },
  {
   "cell_type": "code",
   "execution_count": 4,
   "metadata": {},
   "outputs": [],
   "source": [
    "def getTokens (file):\n",
    "    token_words = []\n",
    "\n",
    "    tokens = list(javalang.tokenizer.tokenize(file))\n",
    "    parser = javalang.parser.Parser(tokens)\n",
    "    \n",
    "    for i in tokens:\n",
    "       token_words.append(type(i).__name__)\n",
    "    \n",
    "    return token_words"
   ]
  },
  {
   "cell_type": "code",
   "execution_count": 5,
   "metadata": {},
   "outputs": [],
   "source": [
    "def getValues (file):\n",
    "    token_words = []\n",
    "\n",
    "    tokens = list(javalang.tokenizer.tokenize(file))\n",
    "    parser = javalang.parser.Parser(tokens)\n",
    "    \n",
    "    for i in tokens:\n",
    "       token_words.append(i.value)\n",
    "    \n",
    "    return token_words"
   ]
  },
  {
   "cell_type": "code",
   "execution_count": 30,
   "metadata": {},
   "outputs": [],
   "source": [
    "df = pd.read_csv('../labels.csv')\n",
    "\n",
    "df['prediction'] = 0\n",
    "df\n",
    "\n",
    "data_path = './data'\n",
    "train_data_path = os.path.join(data_path, 'Train')\n",
    "java_folder_path = train_data_path + '/*.java'\n",
    "        \n",
    "file_pair_list = []\n",
    "\n",
    "for _, folder_name in enumerate(glob.glob(train_data_path + '/*/')):\n",
    "    file_pair = []\n",
    "    for _, file_name in enumerate(glob.glob(folder_name + '/*.java')):\n",
    "        file_pair.append(file_name)\n",
    "    \n",
    "    file_pair_list.append(file_pair)\n",
    "\n",
    "texts = []\n",
    "labels = []\n",
    "\n",
    "for file_pair in file_pair_list:\n",
    "    with open(file_pair[0], 'r', encoding = 'utf8') as file1, open(file_pair[1], 'r', encoding = 'utf8') as file2:\n",
    "        file1_name = os.path.basename(file_pair[0])[:-5]\n",
    "        file2_name = os.path.basename(file_pair[1])[:-5]\n",
    "\n",
    "        expected = 1\n",
    "        current_row = df.loc[(df['sub1'] == file1_name) & (df['sub2'] == file2_name)]\n",
    "\n",
    "        if len(current_row) > 0 and current_row.iloc[0]['verdict'] == 0:\n",
    "            expected = 0\n",
    "\n",
    "        file1_string = file1.read()\n",
    "        file2_string = file2.read()\n",
    "        \n",
    "        files_string = ' '.join(getValues(file1_string)) + \" \" +  ' '.join(getValues(file2_string))\n",
    "\n",
    "        texts.append(files_string)\n",
    "        labels.append(expected)"
   ]
  },
  {
   "cell_type": "code",
   "execution_count": 25,
   "metadata": {},
   "outputs": [
    {
     "name": "stdout",
     "output_type": "stream",
     "text": [
      "Model: \"sequential_5\"\n",
      "_________________________________________________________________\n",
      " Layer (type)                Output Shape              Param #   \n",
      "=================================================================\n",
      " text_vectorization_5 (Text  (None, None)              0         \n",
      " Vectorization)                                                  \n",
      "                                                                 \n",
      " embedding_5 (Embedding)     (None, None, 32)          32000     \n",
      "                                                                 \n",
      " bidirectional_5 (Bidirecti  (None, 64)                16640     \n",
      " onal)                                                           \n",
      "                                                                 \n",
      " dense_10 (Dense)            (None, 64)                4160      \n",
      "                                                                 \n",
      " dense_11 (Dense)            (None, 1)                 65        \n",
      "                                                                 \n",
      "=================================================================\n",
      "Total params: 52865 (206.50 KB)\n",
      "Trainable params: 52865 (206.50 KB)\n",
      "Non-trainable params: 0 (0.00 Byte)\n",
      "_________________________________________________________________\n"
     ]
    }
   ],
   "source": [
    "import tensorflow as tf\n",
    "\n",
    "VOCAB_SIZE = 1000\n",
    "\n",
    "encoder = tf.keras.layers.TextVectorization(\n",
    "    max_tokens=VOCAB_SIZE)\n",
    "\n",
    "encoder.adapt(texts)\n",
    "\n",
    "model = tf.keras.Sequential([\n",
    "    encoder,\n",
    "    tf.keras.layers.Embedding(\n",
    "        input_dim=len(encoder.get_vocabulary()),\n",
    "        output_dim=32,\n",
    "        # Use masking to handle the variable sequence lengths\n",
    "        mask_zero=True),\n",
    "    tf.keras.layers.Bidirectional(tf.keras.layers.LSTM(32)),\n",
    "    tf.keras.layers.Dense(64, activation='relu'),\n",
    "    tf.keras.layers.Dense(1, activation = 'sigmoid')\n",
    "])\n",
    "\n",
    "model.compile(loss='binary_crossentropy',\n",
    "              optimizer='adam',\n",
    "              metrics=['accuracy'])\n",
    "\n",
    "model.summary()"
   ]
  },
  {
   "cell_type": "code",
   "execution_count": 26,
   "metadata": {},
   "outputs": [
    {
     "name": "stdout",
     "output_type": "stream",
     "text": [
      "Epoch 1/10\n",
      "24/24 [==============================] - 161s 6s/step - loss: 0.6577 - accuracy: 0.6564\n",
      "Epoch 2/10\n",
      "24/24 [==============================] - 160s 7s/step - loss: 0.6041 - accuracy: 0.6765\n",
      "Epoch 3/10\n",
      "24/24 [==============================] - 146s 6s/step - loss: 0.5396 - accuracy: 0.7620\n",
      "Epoch 4/10\n",
      "24/24 [==============================] - 172s 7s/step - loss: 0.4670 - accuracy: 0.7874\n",
      "Epoch 5/10\n",
      "24/24 [==============================] - 155s 6s/step - loss: 0.4271 - accuracy: 0.8128\n",
      "Epoch 6/10\n",
      "24/24 [==============================] - 170s 7s/step - loss: 0.3989 - accuracy: 0.8329\n",
      "Epoch 7/10\n",
      "24/24 [==============================] - 567s 24s/step - loss: 0.3601 - accuracy: 0.8529\n",
      "Epoch 8/10\n",
      "24/24 [==============================] - 152s 6s/step - loss: 0.3316 - accuracy: 0.8650\n",
      "Epoch 9/10\n",
      "24/24 [==============================] - 189s 8s/step - loss: 0.3374 - accuracy: 0.8636\n",
      "Epoch 10/10\n",
      "24/24 [==============================] - 207s 9s/step - loss: 0.3018 - accuracy: 0.8743\n"
     ]
    }
   ],
   "source": [
    "history = model.fit(x = texts, y = labels, epochs=10)"
   ]
  },
  {
   "cell_type": "code",
   "execution_count": 31,
   "metadata": {},
   "outputs": [
    {
     "name": "stdout",
     "output_type": "stream",
     "text": [
      "8/8 [==============================] - 13s 2s/step - loss: 0.7442 - accuracy: 0.7206\n"
     ]
    },
    {
     "data": {
      "text/plain": [
       "[0.7442188262939453, 0.7206477522850037]"
      ]
     },
     "execution_count": 31,
     "metadata": {},
     "output_type": "execute_result"
    }
   ],
   "source": [
    "model.evaluate(x = texts, y = labels)"
   ]
  },
  {
   "cell_type": "code",
   "execution_count": 17,
   "metadata": {},
   "outputs": [],
   "source": [
    "model.save('./models/plaigarism_detector.keras')"
   ]
  },
  {
   "cell_type": "code",
   "execution_count": 20,
   "metadata": {},
   "outputs": [
    {
     "name": "stdout",
     "output_type": "stream",
     "text": [
      "8/8 [==============================] - 29s 3s/step - loss: 0.7597 - accuracy: 0.7530\n"
     ]
    },
    {
     "data": {
      "text/plain": [
       "[0.7596820592880249, 0.7530364394187927]"
      ]
     },
     "execution_count": 20,
     "metadata": {},
     "output_type": "execute_result"
    }
   ],
   "source": [
    "from tensorflow.keras.models import load_model\n",
    "\n",
    "model2 = load_model('./models/plaigarism_detector.keras')\n",
    "\n",
    "model2.evaluate(x = texts, y = labels)"
   ]
  }
 ],
 "metadata": {
  "kernelspec": {
   "display_name": "Python 3",
   "language": "python",
   "name": "python3"
  },
  "language_info": {
   "codemirror_mode": {
    "name": "ipython",
    "version": 3
   },
   "file_extension": ".py",
   "mimetype": "text/x-python",
   "name": "python",
   "nbconvert_exporter": "python",
   "pygments_lexer": "ipython3",
   "version": "3.11.4"
  }
 },
 "nbformat": 4,
 "nbformat_minor": 2
}
