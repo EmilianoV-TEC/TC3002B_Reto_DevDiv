{
 "cells": [
  {
   "cell_type": "code",
   "execution_count": 63,
   "metadata": {},
   "outputs": [],
   "source": [
    "import os\n",
    "import glob\n",
    "import numpy as np"
   ]
  },
  {
   "cell_type": "code",
   "execution_count": 64,
   "metadata": {},
   "outputs": [
    {
     "name": "stdout",
     "output_type": "stream",
     "text": [
      "import java.util.*;import java.io.*;public class Main {    public static void main(String[] args) throws IOException {        Scanner sc = new Scanner(System.in);        PrintWriter pw = new PrintWriter(System.out);        int t = sc.nextInt();        while(t-- > 0){            int n = sc.nextInt();            String[] s = new String[n];            for(int i=0; i<n; i++)                s[i] = sc.next();            int MAX = 0;            for(char c = 'a'; c <= 'e'; c++){                PriorityQueue<Integer> pq = new PriorityQueue<>(Collections.reverseOrder()); //Big comes in top;                for(int i=0; i<n; ++i) {                    int curChar = 0;                    int otherChar = 0;                    for(int j=0; j<s[i].length(); j++) {                        if(s[i].charAt(j) == c)                            curChar++;                        else                            otherChar++;                    }                    int diff = curChar - otherChar;                    pq.add(diff);                }                int cur = 0;                int numberOfWords = 0;                while(!pq.isEmpty()){                    if(cur + pq.peek() > 0){                        cur += pq.poll();                        numberOfWords++;                    }else{                        break;                    }                }                MAX = Math.max(MAX, numberOfWords);            }            pw.println(MAX);        }        pw.close();    }    static class Scanner {        BufferedReader br;        StringTokenizer st;        public Scanner(InputStream s) {            br = new BufferedReader(new InputStreamReader(s));        }        public Scanner(FileReader f) {            br = new BufferedReader(f);        }        public String next() throws IOException {            while (st == null || !st.hasMoreTokens())                st = new StringTokenizer(br.readLine());            return st.nextToken();        }        public int nextInt() throws IOException {            return Integer.parseInt(next());        }        public long nextLong() throws IOException {            return Long.parseLong(next());        }        public double nextDouble() throws IOException {            return Double.parseDouble(next());        }        public int[] nextIntArr(int n) throws IOException {            int[] arr = new int[n];            for (int i = 0; i < n; i++) {                arr[i] = Integer.parseInt(next());            }            return arr;        }    }}\n"
     ]
    }
   ],
   "source": [
    "data_path = './data'\n",
    "train_data_path = os.path.join(data_path, 'Train')\n",
    "java_folder_path = train_data_path + '/*.java'\n",
    "        \n",
    "file_pair_list = []\n",
    "\n",
    "for _, folder_name in enumerate(glob.glob(train_data_path + '/*/')):\n",
    "    file_pair = []\n",
    "    for _, file_name in enumerate(glob.glob(folder_name + '/*.java')):\n",
    "        file_pair.append(file_name)\n",
    "    \n",
    "    file_pair_list.append(file_pair)\n",
    "\n",
    "with open(\"./data/Train/00af3420_5449d33c/00af3420.java\", 'r') as file1:\n",
    "    file1_string = file1.read().replace('\\n', '')\n",
    "    print(file1_string)"
   ]
  },
  {
   "cell_type": "code",
   "execution_count": 65,
   "metadata": {},
   "outputs": [],
   "source": [
    "def read_tokens(text, bag, bag_aux):\n",
    "    \n",
    "    text = text + \" \"\n",
    "    word_amount = {}\n",
    "    words_full = bag\n",
    "    word = \"\"\n",
    "\n",
    "    for letter in text:\n",
    "        if word not in word_amount:\n",
    "            word_amount[word] = 1\n",
    "        else: \n",
    "            word_amount[word] += 1\n",
    "\n",
    "        if letter not in bag_aux:\n",
    "            word += letter.lower()\n",
    "        elif word != '':\n",
    "            words_full.append(word)\n",
    "            word = ''        \n",
    "        else:\n",
    "            word = \"\"\n",
    "    return words_full, word_amount"
   ]
  },
  {
   "cell_type": "code",
   "execution_count": 66,
   "metadata": {},
   "outputs": [],
   "source": [
    "def getNgrams(n, text,allNgrams):\n",
    "    nGrams = {}\n",
    "    for i in range(len(text)-n+1):\n",
    "        current = text[i]\n",
    "        for j in range(i+1,n+i):\n",
    "            current += \" \" + (text[j])\n",
    "        if current not in allNgrams:\n",
    "            allNgrams.append(current)\n",
    "        if current not in nGrams:\n",
    "            nGrams[current] = 1\n",
    "        else:\n",
    "            nGrams[current] += 1\n",
    "    return nGrams,allNgrams\n"
   ]
  },
  {
   "cell_type": "code",
   "execution_count": 67,
   "metadata": {},
   "outputs": [],
   "source": [
    "def getVector(word_list, full_word_list):\n",
    "    vector = []\n",
    "    for word in full_word_list:\n",
    "        if word not in word_list:\n",
    "            vector.append(0)\n",
    "        else:\n",
    "            vector.append(word_list[word])\n",
    "    return vector"
   ]
  },
  {
   "cell_type": "code",
   "execution_count": 68,
   "metadata": {},
   "outputs": [],
   "source": [
    "%run \"Lexer.py\"\n",
    "import sys\n",
    "from Lexer import *\n",
    "\n",
    "def getTokens(filepath):\n",
    "\n",
    "    token_words = []\n",
    "\n",
    "    lexer = Lexer(filepath)\n",
    "    token = lexer.scan()\n",
    "    while token.getTag() != Tag.EOF:\n",
    "        token_words.append(str(token))\n",
    "        token = lexer.scan()\n",
    "    token_words.append(\"END\")\n",
    "\n",
    "    return token_words\n"
   ]
  },
  {
   "cell_type": "code",
   "execution_count": 69,
   "metadata": {},
   "outputs": [
    {
     "name": "stdout",
     "output_type": "stream",
     "text": [
      "1: \n",
      "{\"'IMPORT' 'JAVA' '.'\": 3, \"'JAVA' '.' 'IO'\": 1, \"'.' 'IO' '.'\": 1, \"'IO' '.' '*'\": 1, \"'.' '*' ';'\": 3, \"'*' ';' 'IMPORT'\": 2, \"';' 'IMPORT' 'JAVA'\": 2, \"'JAVA' '.' 'UTIL'\": 1, \"'.' 'UTIL' '.'\": 1, \"'UTIL' '.' '*'\": 1, \"'JAVA' '.' 'LANG'\": 1, \"'.' 'LANG' '.'\": 1, \"'LANG' '.' '*'\": 1, \"'*' ';' 'PUBLIC'\": 1, \"';' 'PUBLIC' 'CLASS'\": 1, \"'PUBLIC' 'CLASS' 'C'\": 1, \"'CLASS' 'C' '{'\": 1, \"'C' '{' 'PUBLIC'\": 1, \"'{' 'PUBLIC' 'STATIC'\": 1, \"'PUBLIC' 'STATIC' 'VOID'\": 1, \"'STATIC' 'VOID' 'MAIN'\": 1, \"'VOID' 'MAIN' '('\": 2, \"'MAIN' '(' 'STRING'\": 1, \"'(' 'STRING' '['\": 1, \"'STRING' '[' ']'\": 2, \"'[' ']' 'ARGS'\": 1, \"']' 'ARGS' ')'\": 1, \"'ARGS' ')' '{'\": 1, \"')' '{' 'INPUTSTREAM'\": 1, \"'{' 'INPUTSTREAM' 'INPUTSTREAM'\": 1, \"'INPUTSTREAM' 'INPUTSTREAM' '='\": 1, \"'INPUTSTREAM' '=' 'SYSTEM'\": 1, \"'=' 'SYSTEM' '.'\": 2, \"'SYSTEM' '.' 'IN'\": 1, \"'.' 'IN' ';'\": 1, \"'IN' ';' 'OUTPUTSTREAM'\": 1, \"';' 'OUTPUTSTREAM' 'OUTPUTSTREAM'\": 1, \"'OUTPUTSTREAM' 'OUTPUTSTREAM' '='\": 1, \"'OUTPUTSTREAM' '=' 'SYSTEM'\": 1, \"'SYSTEM' '.' 'OUT'\": 1, \"'.' 'OUT' ';'\": 1, \"'OUT' ';' 'INPUTREADER'\": 1, \"';' 'INPUTREADER' 'IN'\": 1, \"'INPUTREADER' 'IN' '='\": 1, \"'IN' '=' 'NEW'\": 1, \"'=' 'NEW' 'INPUTREADER'\": 1, \"'NEW' 'INPUTREADER' '('\": 1, \"'INPUTREADER' '(' 'INPUTSTREAM'\": 2, \"'(' 'INPUTSTREAM' ')'\": 1, \"'INPUTSTREAM' ')' ';'\": 1, \"')' ';' 'PRINTWRITER'\": 1, \"';' 'PRINTWRITER' 'OUT'\": 1, \"'PRINTWRITER' 'OUT' '='\": 1, \"'OUT' '=' 'NEW'\": 1, \"'=' 'NEW' 'PRINTWRITER'\": 1, \"'NEW' 'PRINTWRITER' '('\": 1, \"'PRINTWRITER' '(' 'OUTPUTSTREAM'\": 1, \"'(' 'OUTPUTSTREAM' ')'\": 1, \"'OUTPUTSTREAM' ')' ';'\": 1, \"')' ';' 'SOLVER'\": 2, \"';' 'SOLVER' 'SOLVER'\": 1, \"'SOLVER' 'SOLVER' '='\": 1, \"'SOLVER' '=' 'NEW'\": 1, \"'=' 'NEW' 'SOLVER'\": 1, \"'NEW' 'SOLVER' '('\": 1, \"'SOLVER' '(' ')'\": 1, \"'(' ')' ';'\": 7, \"';' 'SOLVER' '.'\": 1, \"'SOLVER' '.' 'MAIN'\": 1, \"'.' 'MAIN' '('\": 1, \"'MAIN' '(' 'IN'\": 1, \"'(' 'IN' ','\": 1, \"'IN' ',' 'OUT'\": 1, \"',' 'OUT' ')'\": 1, \"'OUT' ')' ';'\": 1, \"')' ';' 'OUT'\": 1, \"';' 'OUT' '.'\": 1, \"'OUT' '.' 'CLOSE'\": 1, \"'.' 'CLOSE' '('\": 1, \"'CLOSE' '(' ')'\": 1, \"')' ';' '}'\": 8, \"';' '}' 'STATIC'\": 1, \"'}' 'STATIC' 'CLASS'\": 2, \"'STATIC' 'CLASS' 'SOLVER'\": 1, \"'CLASS' 'SOLVER' '{'\": 1, \"'SOLVER' '{' 'PUBLIC'\": 1, \"'{' 'PUBLIC' 'VOID'\": 1, \"'PUBLIC' 'VOID' 'MAIN'\": 1, \"'MAIN' '(' 'INPUTREADER'\": 1, \"'(' 'INPUTREADER' 'IN'\": 1, \"'INPUTREADER' 'IN' ','\": 1, \"'IN' ',' 'PRINTWRITER'\": 1, \"',' 'PRINTWRITER' 'OUT'\": 1, \"'PRINTWRITER' 'OUT' ')'\": 1, \"'OUT' ')' '{'\": 1, \"')' '{' 'INT'\": 4, \"'{' 'INT' 'T'\": 1, \"'INT' 'T' '='\": 2, \"'T' '=' 'IN'\": 1, \"'=' 'IN' '.'\": 3, \"'IN' '.' 'NEXTINT'\": 2, \"'.' 'NEXTINT' '('\": 2, \"'NEXTINT' '(' ')'\": 3, \"')' ';' 'FOR'\": 1, \"';' 'FOR' '('\": 6, \"'FOR' '(' 'INT'\": 5, \"'(' 'INT' 'T'\": 1, \"'T' '=' numeric constant\": 1, \"'=' numeric constant ';'\": 11, \"numeric constant ';' 'T'\": 1, \"';' 'T' '<'\": 1, \"'T' '<' 'T'\": 1, \"'<' 'T' ';'\": 1, \"'T' ';' 'T'\": 1, \"';' 'T' '+'\": 1, \"'T' '+' '+'\": 1, \"'+' '+' ')'\": 5, \"'+' ')' '{'\": 5, \"'{' 'INT' 'N'\": 1, \"'INT' 'N' '='\": 1, \"'N' '=' 'IN'\": 1, \"')' ';' 'STRING'\": 1, \"';' 'STRING' '['\": 1, \"'[' ']' 'A'\": 1, \"']' 'A' '='\": 1, \"'A' '=' 'NEW'\": 1, \"'=' 'NEW' 'STRING'\": 1, \"'NEW' 'STRING' '['\": 1, \"'STRING' '[' 'N'\": 1, \"'[' 'N' ']'\": 2, \"'N' ']' ';'\": 2, \"']' ';' 'FOR'\": 2, \"'(' 'INT' 'I'\": 3, \"'INT' 'I' '='\": 3, \"'I' '=' numeric constant\": 2, \"numeric constant ';' 'I'\": 4, \"';' 'I' '<'\": 2, \"'I' '<' 'N'\": 2, \"'<' 'N' ';'\": 2, \"'N' ';' 'I'\": 2, \"';' 'I' '+'\": 2, \"'I' '+' '+'\": 2, \"')' '{' 'A'\": 1, \"'{' 'A' '['\": 1, \"'A' '[' 'I'\": 3, \"'[' 'I' ']'\": 6, \"'I' ']' '='\": 2, \"']' '=' 'IN'\": 1, \"'IN' '.' 'NEXT'\": 1, \"'.' 'NEXT' '('\": 1, \"'NEXT' '(' ')'\": 3, \"';' '}' 'INT'\": 1, \"'}' 'INT' 'ANS'\": 1, \"'INT' 'ANS' '='\": 1, \"'ANS' '=' numeric constant\": 1, \"numeric constant ';' 'FOR'\": 3, \"'FOR' '(' 'CHAR'\": 1, \"'(' 'CHAR' 'C'\": 1, \"'CHAR' 'C' '='\": 1, \"'C' '=' '''\": 1, \"'=' ''' 'A'\": 1, \"''' 'A' '''\": 1, \"'A' ''' ';'\": 1, \"''' ';' 'C'\": 2, \"';' 'C' '<='\": 1, \"'C' '<=' '''\": 1, \"'<=' ''' 'E'\": 1, \"''' 'E' '''\": 1, \"'E' ''' ';'\": 1, \"';' 'C' '+'\": 1, \"'C' '+' '+'\": 1, \"'{' 'INT' '['\": 1, \"'INT' '[' ']'\": 1, \"'[' ']' 'LS'\": 1, \"']' 'LS' '='\": 1, \"'LS' '=' 'NEW'\": 1, \"'=' 'NEW' 'INT'\": 1, \"'NEW' 'INT' '['\": 1, \"'INT' '[' 'N'\": 1, \"'{' 'INT' 'DELTA'\": 1, \"'INT' 'DELTA' '='\": 1, \"'DELTA' '=' numeric constant\": 1, \"'(' 'INT' 'J'\": 1, \"'INT' 'J' '='\": 1, \"'J' '=' numeric constant\": 1, \"numeric constant ';' 'J'\": 1, \"';' 'J' '<'\": 1, \"'J' '<' 'A'\": 1, \"'<' 'A' '['\": 1, \"'I' ']' '.'\": 2, \"']' '.' 'LENGTH'\": 1, \"'.' 'LENGTH' '('\": 1, \"'LENGTH' '(' ')'\": 1, \"')' ';' 'J'\": 1, \"';' 'J' '+'\": 1, \"'J' '+' '+'\": 1, \"')' '{' 'if'\": 2, \"'{' 'if' '('\": 2, \"'if' '(' 'A'\": 1, \"'(' 'A' '['\": 1, \"']' '.' 'CHARAT'\": 1, \"'.' 'CHARAT' '('\": 1, \"'CHARAT' '(' 'J'\": 1, \"'(' 'J' ')'\": 1, \"'J' ')' '='\": 1, \"')' '=' '='\": 1, \"'=' '=' 'C'\": 1, \"'=' 'C' ')'\": 1, \"'C' ')' '{'\": 1, \"')' '{' 'DELTA'\": 1, \"'{' 'DELTA' '+'\": 1, \"'DELTA' '+' '='\": 1, \"'+' '=' numeric constant\": 2, \"numeric constant ';' '}'\": 3, \"';' '}' 'ELSE'\": 1, \"'}' 'ELSE' '{'\": 1, \"'ELSE' '{' 'DELTA'\": 1, \"'{' 'DELTA' '-'\": 1, \"'DELTA' '-' '='\": 1, \"'-' '=' numeric constant\": 1, \"';' '}' '}'\": 5, \"'}' '}' 'LS'\": 1, \"'}' 'LS' '['\": 1, \"'LS' '[' 'I'\": 3, \"']' '=' 'DELTA'\": 1, \"'=' 'DELTA' ';'\": 1, \"'DELTA' ';' '}'\": 1, \"';' '}' 'ARRAYS'\": 1, \"'}' 'ARRAYS' '.'\": 1, \"'ARRAYS' '.' 'SORT'\": 1, \"'.' 'SORT' '('\": 1, \"'SORT' '(' 'LS'\": 1, \"'(' 'LS' ','\": 1, \"'LS' ',' numeric constant\": 1, \"',' numeric constant ','\": 1, \"numeric constant ',' 'N'\": 1, \"',' 'N' ')'\": 1, \"'N' ')' ';'\": 1, \"')' ';' 'INT'\": 1, \"';' 'INT' 'CUR'\": 1, \"'INT' 'CUR' '='\": 1, \"'CUR' '=' numeric constant\": 1, \"numeric constant ';' 'INT'\": 1, \"';' 'INT' 'SCORE'\": 1, \"'INT' 'SCORE' '='\": 1, \"'SCORE' '=' numeric constant\": 1, \"'I' '=' 'N'\": 1, \"'=' 'N' '-'\": 1, \"'N' '-' numeric constant\": 1, \"'-' numeric constant ';'\": 1, \"';' 'I' '>='\": 1, \"'I' '>=' numeric constant\": 1, \"'>=' numeric constant ';'\": 1, \"';' 'I' '-'\": 1, \"'I' '-' '-'\": 1, \"'-' '-' ')'\": 1, \"'-' ')' '{'\": 1, \"'if' '(' 'CUR'\": 1, \"'(' 'CUR' '+'\": 1, \"'CUR' '+' 'LS'\": 1, \"'+' 'LS' '['\": 1, \"'I' ']' '>='\": 1, \"']' '>=' numeric constant\": 1, \"'>=' numeric constant ')'\": 1, \"numeric constant ')' '{'\": 1, \"')' '{' 'CUR'\": 1, \"'{' 'CUR' '+'\": 1, \"'CUR' '+' '='\": 1, \"'+' '=' 'LS'\": 1, \"'=' 'LS' '['\": 1, \"'I' ']' ';'\": 1, \"']' ';' 'SCORE'\": 1, \"';' 'SCORE' '+'\": 1, \"'SCORE' '+' '='\": 1, \"'}' '}' 'ANS'\": 1, \"'}' 'ANS' '='\": 1, \"'ANS' '=' 'MATH'\": 1, \"'=' 'MATH' '.'\": 1, \"'MATH' '.' 'MAX'\": 1, \"'.' 'MAX' '('\": 1, \"'MAX' '(' 'ANS'\": 1, \"'(' 'ANS' ','\": 1, \"'ANS' ',' 'SCORE'\": 1, \"',' 'SCORE' ')'\": 1, \"'SCORE' ')' ';'\": 1, \"';' '}' 'OUT'\": 1, \"'}' 'OUT' '.'\": 1, \"'OUT' '.' 'PRINTLN'\": 1, \"'.' 'PRINTLN' '('\": 1, \"'PRINTLN' '(' 'ANS'\": 1, \"'(' 'ANS' ')'\": 1, \"'ANS' ')' ';'\": 1, \"'}' '}' '}'\": 2, \"'}' '}' 'STATIC'\": 1, \"'STATIC' 'CLASS' 'INPUTREADER'\": 1, \"'CLASS' 'INPUTREADER' '{'\": 1, \"'INPUTREADER' '{' 'PUBLIC'\": 1, \"'{' 'PUBLIC' 'BUFFEREDREADER'\": 1, \"'PUBLIC' 'BUFFEREDREADER' 'READER'\": 1, \"'BUFFEREDREADER' 'READER' ';'\": 1, \"'READER' ';' 'PUBLIC'\": 1, \"';' 'PUBLIC' 'STRINGTOKENIZER'\": 1, \"'PUBLIC' 'STRINGTOKENIZER' 'TOKENIZER'\": 1, \"'STRINGTOKENIZER' 'TOKENIZER' ';'\": 1, \"'TOKENIZER' ';' 'PUBLIC'\": 1, \"';' 'PUBLIC' 'INPUTREADER'\": 1, \"'PUBLIC' 'INPUTREADER' '('\": 1, \"'(' 'INPUTSTREAM' 'STREAM'\": 1, \"'INPUTSTREAM' 'STREAM' ')'\": 1, \"'STREAM' ')' '{'\": 1, \"')' '{' 'READER'\": 1, \"'{' 'READER' '='\": 1, \"'READER' '=' 'NEW'\": 1, \"'=' 'NEW' 'BUFFEREDREADER'\": 1, \"'NEW' 'BUFFEREDREADER' '('\": 1, \"'BUFFEREDREADER' '(' 'NEW'\": 1, \"'(' 'NEW' 'INPUTSTREAMREADER'\": 1, \"'NEW' 'INPUTSTREAMREADER' '('\": 1, \"'INPUTSTREAMREADER' '(' 'STREAM'\": 1, \"'(' 'STREAM' ')'\": 1, \"'STREAM' ')' ','\": 1, \"')' ',' numeric constant\": 1, \"',' numeric constant ')'\": 1, \"numeric constant ')' ';'\": 1, \"')' ';' 'TOKENIZER'\": 1, \"';' 'TOKENIZER' '='\": 1, \"'TOKENIZER' '=' 'NULL'\": 1, \"'=' 'NULL' ';'\": 1, \"'NULL' ';' '}'\": 1, \"';' '}' 'PUBLIC'\": 2, \"'}' 'PUBLIC' 'STRING'\": 1, \"'PUBLIC' 'STRING' 'NEXT'\": 1, \"'STRING' 'NEXT' '('\": 1, \"'(' ')' '{'\": 2, \"')' '{' 'WHILE'\": 1, \"'{' 'WHILE' '('\": 1, \"'WHILE' '(' 'TOKENIZER'\": 1, \"'(' 'TOKENIZER' '='\": 1, \"'TOKENIZER' '=' '='\": 1, \"'=' '=' 'NULL'\": 1, \"'=' 'NULL' '|'\": 1, \"'NULL' '|' '|'\": 1, \"'|' '|' '!'\": 1, \"'|' '!' 'TOKENIZER'\": 1, \"'!' 'TOKENIZER' '.'\": 1, \"'TOKENIZER' '.' 'HASMORETOKENS'\": 1, \"'.' 'HASMORETOKENS' '('\": 1, \"'HASMORETOKENS' '(' ')'\": 1, \"'(' ')' ')'\": 3, \"')' ')' '{'\": 1, \"')' '{' 'TRY'\": 1, \"'{' 'TRY' '{'\": 1, \"'TRY' '{' 'TOKENIZER'\": 1, \"'{' 'TOKENIZER' '='\": 1, \"'TOKENIZER' '=' 'NEW'\": 1, \"'=' 'NEW' 'STRINGTOKENIZER'\": 1, \"'NEW' 'STRINGTOKENIZER' '('\": 1, \"'STRINGTOKENIZER' '(' 'READER'\": 1, \"'(' 'READER' '.'\": 1, \"'READER' '.' 'READLINE'\": 1, \"'.' 'READLINE' '('\": 1, \"'READLINE' '(' ')'\": 1, \"')' ')' ';'\": 2, \"';' '}' 'CATCH'\": 1, \"'}' 'CATCH' '('\": 1, \"'CATCH' '(' 'IOEXCEPTION'\": 1, \"'(' 'IOEXCEPTION' 'E'\": 1, \"'IOEXCEPTION' 'E' ')'\": 1, \"'E' ')' '{'\": 1, \"')' '{' 'THROW'\": 1, \"'{' 'THROW' 'NEW'\": 1, \"'THROW' 'NEW' 'RUNTIMEEXCEPTION'\": 1, \"'NEW' 'RUNTIMEEXCEPTION' '('\": 1, \"'RUNTIMEEXCEPTION' '(' 'E'\": 1, \"'(' 'E' ')'\": 1, \"'E' ')' ';'\": 1, \"'}' '}' 'RETURN'\": 1, \"'}' 'RETURN' 'TOKENIZER'\": 1, \"'RETURN' 'TOKENIZER' '.'\": 1, \"'TOKENIZER' '.' 'NEXTTOKEN'\": 1, \"'.' 'NEXTTOKEN' '('\": 1, \"'NEXTTOKEN' '(' ')'\": 1, \"'}' 'PUBLIC' 'INT'\": 1, \"'PUBLIC' 'INT' 'NEXTINT'\": 1, \"'INT' 'NEXTINT' '('\": 1, \"')' '{' 'RETURN'\": 1, \"'{' 'RETURN' 'INTEGER'\": 1, \"'RETURN' 'INTEGER' '.'\": 1, \"'INTEGER' '.' 'PARSEINT'\": 1, \"'.' 'PARSEINT' '('\": 1, \"'PARSEINT' '(' 'NEXT'\": 1, \"'(' 'NEXT' '('\": 1, \"'}' '}' END\": 1}\n",
      "2: \n",
      "{\"'IMPORT' 'JAVA' '.'\": 2, \"'JAVA' '.' 'UTIL'\": 1, \"'.' 'UTIL' '.'\": 1, \"'UTIL' '.' '*'\": 1, \"'.' '*' ';'\": 2, \"'*' ';' 'IMPORT'\": 1, \"';' 'IMPORT' 'JAVA'\": 1, \"'JAVA' '.' 'IO'\": 1, \"'.' 'IO' '.'\": 1, \"'IO' '.' '*'\": 1, \"'*' ';' 'PUBLIC'\": 1, \"';' 'PUBLIC' 'CLASS'\": 1, \"'PUBLIC' 'CLASS' 'MAIN'\": 1, \"'CLASS' 'MAIN' '{'\": 1, \"'MAIN' '{' 'PUBLIC'\": 1, \"'{' 'PUBLIC' 'STATIC'\": 1, \"'PUBLIC' 'STATIC' 'VOID'\": 1, \"'STATIC' 'VOID' 'MAIN'\": 1, \"'VOID' 'MAIN' '('\": 1, \"'MAIN' '(' 'STRING'\": 1, \"'(' 'STRING' '['\": 1, \"'STRING' '[' ']'\": 2, \"'[' ']' 'ARGS'\": 1, \"']' 'ARGS' ')'\": 1, \"'ARGS' ')' 'THROWS'\": 1, \"')' 'THROWS' 'IOEXCEPTION'\": 6, \"'THROWS' 'IOEXCEPTION' '{'\": 6, \"'IOEXCEPTION' '{' 'SCANNER'\": 1, \"'{' 'SCANNER' 'SC'\": 1, \"'SCANNER' 'SC' '='\": 1, \"'SC' '=' 'NEW'\": 1, \"'=' 'NEW' 'SCANNER'\": 1, \"'NEW' 'SCANNER' '('\": 1, \"'SCANNER' '(' 'SYSTEM'\": 1, \"'(' 'SYSTEM' '.'\": 2, \"'SYSTEM' '.' 'IN'\": 1, \"'.' 'IN' ')'\": 1, \"'IN' ')' ';'\": 1, \"')' ';' 'PRINTWRITER'\": 1, \"';' 'PRINTWRITER' 'PW'\": 1, \"'PRINTWRITER' 'PW' '='\": 1, \"'PW' '=' 'NEW'\": 1, \"'=' 'NEW' 'PRINTWRITER'\": 1, \"'NEW' 'PRINTWRITER' '('\": 1, \"'PRINTWRITER' '(' 'SYSTEM'\": 1, \"'SYSTEM' '.' 'OUT'\": 1, \"'.' 'OUT' ')'\": 1, \"'OUT' ')' ';'\": 1, \"')' ';' 'INT'\": 2, \"';' 'INT' 'T'\": 1, \"'INT' 'T' '='\": 1, \"'T' '=' 'SC'\": 1, \"'=' 'SC' '.'\": 3, \"'SC' '.' 'NEXTINT'\": 2, \"'.' 'NEXTINT' '('\": 2, \"'NEXTINT' '(' ')'\": 3, \"'(' ')' ';'\": 7, \"')' ';' 'WHILE'\": 1, \"';' 'WHILE' '('\": 2, \"'WHILE' '(' 'T'\": 1, \"'(' 'T' '-'\": 1, \"'T' '-' '-'\": 1, \"'-' '-' '>'\": 1, \"'-' '>' numeric constant\": 1, \"'>' numeric constant ')'\": 2, \"numeric constant ')' '{'\": 2, \"')' '{' 'INT'\": 2, \"'{' 'INT' 'N'\": 1, \"'INT' 'N' '='\": 1, \"'N' '=' 'SC'\": 1, \"')' ';' 'STRING'\": 1, \"';' 'STRING' '['\": 1, \"'[' ']' 'S'\": 1, \"']' 'S' '='\": 1, \"'S' '=' 'NEW'\": 1, \"'=' 'NEW' 'STRING'\": 1, \"'NEW' 'STRING' '['\": 1, \"'STRING' '[' 'N'\": 1, \"'[' 'N' ']'\": 2, \"'N' ']' ';'\": 2, \"']' ';' 'FOR'\": 2, \"';' 'FOR' '('\": 5, \"'FOR' '(' 'INT'\": 4, \"'(' 'INT' 'I'\": 3, \"'INT' 'I' '='\": 3, \"'I' '=' numeric constant\": 3, \"'=' numeric constant ';'\": 9, \"numeric constant ';' 'I'\": 3, \"';' 'I' '<'\": 3, \"'I' '<' ';'\": 2, \"'<' ';' 'I'\": 1, \"';' 'I' '+'\": 2, \"'I' '+' '+'\": 2, \"'+' '+' ')'\": 4, \"'+' ')' 'S'\": 1, \"')' 'S' '['\": 1, \"'S' '[' 'I'\": 2, \"'[' 'I' ']'\": 4, \"'I' ']' '='\": 2, \"']' '=' 'SC'\": 1, \"'SC' '.' 'NEXT'\": 1, \"'.' 'NEXT' '('\": 1, \"'NEXT' '(' ')'\": 6, \"';' 'INT' 'MAX'\": 1, \"'INT' 'MAX' '='\": 1, \"'MAX' '=' numeric constant\": 1, \"numeric constant ';' 'FOR'\": 2, \"'FOR' '(' 'CHAR'\": 1, \"'(' 'CHAR' 'C'\": 1, \"'CHAR' 'C' '='\": 1, \"'C' '=' '''\": 1, \"'=' ''' 'A'\": 1, \"''' 'A' '''\": 1, \"'A' ''' ';'\": 1, \"''' ';' 'C'\": 2, \"';' 'C' '<='\": 1, \"'C' '<=' '''\": 1, \"'<=' ''' 'E'\": 1, \"''' 'E' '''\": 1, \"'E' ''' ';'\": 1, \"';' 'C' '+'\": 1, \"'C' '+' '+'\": 1, \"'+' ')' '{'\": 3, \"')' '{' 'PRIORITYQUEUE'\": 1, \"'{' 'PRIORITYQUEUE' '<'\": 1, \"'PRIORITYQUEUE' '<' 'NTEGER'\": 1, \"'<' 'NTEGER' '>'\": 1, \"'NTEGER' '>' 'PQ'\": 1, \"'>' 'PQ' '='\": 1, \"'PQ' '=' 'NEW'\": 1, \"'=' 'NEW' 'PRIORITYQUEUE'\": 1, \"'NEW' 'PRIORITYQUEUE' '<'\": 1, \"'PRIORITYQUEUE' '<' '('\": 1, \"'<' '(' 'COLLECTIONS'\": 1, \"'(' 'COLLECTIONS' '.'\": 1, \"'COLLECTIONS' '.' 'REVERSEORDER'\": 1, \"'.' 'REVERSEORDER' '('\": 1, \"'REVERSEORDER' '(' ')'\": 1, \"'(' ')' ')'\": 8, \"')' ')' ';'\": 7, \"')' ';' '/'\": 1, \"';' '/' '/'\": 1, \"'/' '/' 'BIG'\": 1, \"'/' 'BIG' 'COMES'\": 1, \"'BIG' 'COMES' 'IN'\": 1, \"'COMES' 'IN' 'TOP'\": 1, \"'IN' 'TOP' ';'\": 1, \"'TOP' ';' 'FOR'\": 1, \"'<' ';' '+'\": 1, \"';' '+' '+'\": 1, \"'+' '+' 'I'\": 1, \"'+' 'I' ')'\": 1, \"'I' ')' '{'\": 1, \"'{' 'INT' 'CURCHAR'\": 1, \"'INT' 'CURCHAR' '='\": 1, \"'CURCHAR' '=' numeric constant\": 1, \"numeric constant ';' 'INT'\": 2, \"';' 'INT' 'OTHERCHAR'\": 1, \"'INT' 'OTHERCHAR' '='\": 1, \"'OTHERCHAR' '=' numeric constant\": 1, \"'(' 'INT' 'J'\": 1, \"'INT' 'J' '='\": 1, \"'J' '=' numeric constant\": 1, \"numeric constant ';' 'J'\": 1, \"';' 'J' '<'\": 1, \"'J' '<' '['\": 1, \"'<' '[' 'I'\": 1, \"'I' ']' '.'\": 2, \"']' '.' 'LENGTH'\": 1, \"'.' 'LENGTH' '('\": 1, \"'LENGTH' '(' ')'\": 1, \"')' ';' 'J'\": 1, \"';' 'J' '+'\": 1, \"'J' '+' '+'\": 1, \"')' '{' 'if'\": 2, \"'{' 'if' '('\": 2, \"'if' '(' 'S'\": 1, \"'(' 'S' '['\": 1, \"']' '.' 'CHARAT'\": 1, \"'.' 'CHARAT' '('\": 1, \"'CHARAT' '(' 'J'\": 1, \"'(' 'J' ')'\": 1, \"'J' ')' '='\": 1, \"')' '=' '='\": 1, \"'=' '=' 'C'\": 1, \"'=' 'C' ')'\": 1, \"'C' ')' 'CURCHAR'\": 1, \"')' 'CURCHAR' '+'\": 1, \"'CURCHAR' '+' '+'\": 1, \"'+' '+' ';'\": 3, \"'+' ';' 'ELSE'\": 1, \"';' 'ELSE' 'OTHERCHAR'\": 1, \"'ELSE' 'OTHERCHAR' '+'\": 1, \"'OTHERCHAR' '+' '+'\": 1, \"'+' ';' '}'\": 2, \"';' '}' 'INT'\": 2, \"'}' 'INT' 'DIFF'\": 1, \"'INT' 'DIFF' '='\": 1, \"'DIFF' '=' 'CURCHAR'\": 1, \"'=' 'CURCHAR' '-'\": 1, \"'CURCHAR' '-' 'OTHERCHAR'\": 1, \"'-' 'OTHERCHAR' ';'\": 1, \"'OTHERCHAR' ';' 'PQ'\": 1, \"';' 'PQ' '.'\": 1, \"'PQ' '.' 'ADD'\": 1, \"'.' 'ADD' '('\": 1, \"'ADD' '(' 'DIFF'\": 1, \"'(' 'DIFF' ')'\": 1, \"'DIFF' ')' ';'\": 1, \"')' ';' '}'\": 11, \"'}' 'INT' 'CUR'\": 1, \"'INT' 'CUR' '='\": 1, \"'CUR' '=' numeric constant\": 1, \"';' 'INT' 'NUMBEROFWORDS'\": 1, \"'INT' 'NUMBEROFWORDS' '='\": 1, \"'NUMBEROFWORDS' '=' numeric constant\": 1, \"numeric constant ';' 'WHILE'\": 1, \"'WHILE' '(' '!'\": 1, \"'(' '!' 'PQ'\": 1, \"'!' 'PQ' '.'\": 1, \"'PQ' '.' 'ISEMPTY'\": 1, \"'.' 'ISEMPTY' '('\": 1, \"'ISEMPTY' '(' ')'\": 1, \"')' ')' '{'\": 1, \"'if' '(' 'CUR'\": 1, \"'(' 'CUR' '+'\": 1, \"'CUR' '+' 'PQ'\": 1, \"'+' 'PQ' '.'\": 1, \"'PQ' '.' 'PEEK'\": 1, \"'.' 'PEEK' '('\": 1, \"'PEEK' '(' ')'\": 1, \"'(' ')' '>'\": 1, \"')' '>' numeric constant\": 1, \"')' '{' 'CUR'\": 1, \"'{' 'CUR' '+'\": 1, \"'CUR' '+' '='\": 1, \"'+' '=' 'PQ'\": 1, \"'=' 'PQ' '.'\": 1, \"'PQ' '.' 'POLL'\": 1, \"'.' 'POLL' '('\": 1, \"'POLL' '(' ')'\": 1, \"')' ';' 'NUMBEROFWORDS'\": 1, \"';' 'NUMBEROFWORDS' '+'\": 1, \"'NUMBEROFWORDS' '+' '+'\": 1, \"';' '}' 'ELSE'\": 1, \"'}' 'ELSE' '{'\": 1, \"'ELSE' '{' 'BREAK'\": 1, \"'{' 'BREAK' ';'\": 1, \"'BREAK' ';' '}'\": 1, \"';' '}' '}'\": 2, \"'}' '}' 'MAX'\": 1, \"'}' 'MAX' '='\": 1, \"'MAX' '=' 'MATH'\": 1, \"'=' 'MATH' '.'\": 1, \"'MATH' '.' 'MAX'\": 1, \"'.' 'MAX' '('\": 1, \"'MAX' '(' 'MAX'\": 1, \"'(' 'MAX' ','\": 1, \"'MAX' ',' 'NUMBEROFWORDS'\": 1, \"',' 'NUMBEROFWORDS' ')'\": 1, \"'NUMBEROFWORDS' ')' ';'\": 1, \"';' '}' 'PW'\": 2, \"'}' 'PW' '.'\": 2, \"'PW' '.' 'PRINTLN'\": 1, \"'.' 'PRINTLN' '('\": 1, \"'PRINTLN' '(' 'MAX'\": 1, \"'(' 'MAX' ')'\": 1, \"'MAX' ')' ';'\": 1, \"'PW' '.' 'CLOSE'\": 1, \"'.' 'CLOSE' '('\": 1, \"'CLOSE' '(' ')'\": 1, \"';' '}' 'STATIC'\": 1, \"'}' 'STATIC' 'CLASS'\": 1, \"'STATIC' 'CLASS' 'SCANNER'\": 1, \"'CLASS' 'SCANNER' '{'\": 1, \"'SCANNER' '{' 'BUFFEREDREADER'\": 1, \"'{' 'BUFFEREDREADER' 'BR'\": 1, \"'BUFFEREDREADER' 'BR' ';'\": 1, \"'BR' ';' 'STRINGTOKENIZER'\": 1, \"';' 'STRINGTOKENIZER' 'ST'\": 1, \"'STRINGTOKENIZER' 'ST' ';'\": 1, \"'ST' ';' 'PUBLIC'\": 1, \"';' 'PUBLIC' 'SCANNER'\": 1, \"'PUBLIC' 'SCANNER' '('\": 2, \"'SCANNER' '(' 'INPUTSTREAM'\": 1, \"'(' 'INPUTSTREAM' 'S'\": 1, \"'INPUTSTREAM' 'S' ')'\": 1, \"'S' ')' '{'\": 1, \"')' '{' 'BR'\": 2, \"'{' 'BR' '='\": 2, \"'BR' '=' 'NEW'\": 2, \"'=' 'NEW' 'BUFFEREDREADER'\": 2, \"'NEW' 'BUFFEREDREADER' '('\": 2, \"'BUFFEREDREADER' '(' 'NEW'\": 1, \"'(' 'NEW' 'INPUTSTREAMREADER'\": 1, \"'NEW' 'INPUTSTREAMREADER' '('\": 1, \"'INPUTSTREAMREADER' '(' 'S'\": 1, \"'(' 'S' ')'\": 1, \"'S' ')' ')'\": 1, \"';' '}' 'PUBLIC'\": 6, \"'}' 'PUBLIC' 'SCANNER'\": 1, \"'SCANNER' '(' 'FILEREADER'\": 1, \"'(' 'FILEREADER' 'F'\": 1, \"'FILEREADER' 'F' ')'\": 1, \"'F' ')' '{'\": 1, \"'BUFFEREDREADER' '(' 'F'\": 1, \"'(' 'F' ')'\": 1, \"'F' ')' ';'\": 1, \"'}' 'PUBLIC' 'STRING'\": 1, \"'PUBLIC' 'STRING' 'NEXT'\": 1, \"'STRING' 'NEXT' '('\": 1, \"'(' ')' 'THROWS'\": 4, \"'IOEXCEPTION' '{' 'WHILE'\": 1, \"'{' 'WHILE' '('\": 1, \"'WHILE' '(' 'ST'\": 1, \"'(' 'ST' '='\": 1, \"'ST' '=' '='\": 1, \"'=' '=' 'NULL'\": 1, \"'=' 'NULL' '|'\": 1, \"'NULL' '|' '|'\": 1, \"'|' '|' '!'\": 1, \"'|' '!' 'ST'\": 1, \"'!' 'ST' '.'\": 1, \"'ST' '.' 'HASMORETOKENS'\": 1, \"'.' 'HASMORETOKENS' '('\": 1, \"'HASMORETOKENS' '(' ')'\": 1, \"')' ')' 'ST'\": 1, \"')' 'ST' '='\": 1, \"'ST' '=' 'NEW'\": 1, \"'=' 'NEW' 'STRINGTOKENIZER'\": 1, \"'NEW' 'STRINGTOKENIZER' '('\": 1, \"'STRINGTOKENIZER' '(' 'BR'\": 1, \"'(' 'BR' '.'\": 1, \"'BR' '.' 'READLINE'\": 1, \"'.' 'READLINE' '('\": 1, \"'READLINE' '(' ')'\": 1, \"')' ';' 'RETURN'\": 1, \"';' 'RETURN' 'ST'\": 1, \"'RETURN' 'ST' '.'\": 1, \"'ST' '.' 'NEXTTOKEN'\": 1, \"'.' 'NEXTTOKEN' '('\": 1, \"'NEXTTOKEN' '(' ')'\": 1, \"'}' 'PUBLIC' 'INT'\": 2, \"'PUBLIC' 'INT' 'NEXTINT'\": 1, \"'INT' 'NEXTINT' '('\": 1, \"'IOEXCEPTION' '{' 'RETURN'\": 3, \"'{' 'RETURN' 'INTEGER'\": 1, \"'RETURN' 'INTEGER' '.'\": 1, \"'INTEGER' '.' 'PARSEINT'\": 2, \"'.' 'PARSEINT' '('\": 2, \"'PARSEINT' '(' 'NEXT'\": 2, \"'(' 'NEXT' '('\": 4, \"'}' 'PUBLIC' 'LONG'\": 1, \"'PUBLIC' 'LONG' 'NEXTLONG'\": 1, \"'LONG' 'NEXTLONG' '('\": 1, \"'NEXTLONG' '(' ')'\": 1, \"'{' 'RETURN' 'LONG'\": 1, \"'RETURN' 'LONG' '.'\": 1, \"'LONG' '.' 'PARSELONG'\": 1, \"'.' 'PARSELONG' '('\": 1, \"'PARSELONG' '(' 'NEXT'\": 1, \"'}' 'PUBLIC' 'DOUBLE'\": 1, \"'PUBLIC' 'DOUBLE' 'NEXTDOUBLE'\": 1, \"'DOUBLE' 'NEXTDOUBLE' '('\": 1, \"'NEXTDOUBLE' '(' ')'\": 1, \"'{' 'RETURN' 'DOUBLE'\": 1, \"'RETURN' 'DOUBLE' '.'\": 1, \"'DOUBLE' '.' 'PARSEDOUBLE'\": 1, \"'.' 'PARSEDOUBLE' '('\": 1, \"'PARSEDOUBLE' '(' 'NEXT'\": 1, \"'PUBLIC' 'INT' '['\": 1, \"'INT' '[' ']'\": 2, \"'[' ']' 'NEXTINTARR'\": 1, \"']' 'NEXTINTARR' '('\": 1, \"'NEXTINTARR' '(' 'INT'\": 1, \"'(' 'INT' 'N'\": 1, \"'INT' 'N' ')'\": 1, \"'N' ')' 'THROWS'\": 1, \"'IOEXCEPTION' '{' 'INT'\": 1, \"'{' 'INT' '['\": 1, \"'[' ']' 'ARR'\": 1, \"']' 'ARR' '='\": 1, \"'ARR' '=' 'NEW'\": 1, \"'=' 'NEW' 'INT'\": 1, \"'NEW' 'INT' '['\": 1, \"'INT' '[' 'N'\": 1, \"'I' '<' 'N'\": 1, \"'<' 'N' ';'\": 1, \"'N' ';' 'I'\": 1, \"')' '{' 'ARR'\": 1, \"'{' 'ARR' '['\": 1, \"'ARR' '[' 'I'\": 1, \"']' '=' 'INTEGER'\": 1, \"'=' 'INTEGER' '.'\": 1, \"';' '}' 'RETURN'\": 1, \"'}' 'RETURN' 'ARR'\": 1, \"'RETURN' 'ARR' ';'\": 1, \"'ARR' ';' '}'\": 1, \"'}' '}' '}'\": 1, \"'}' '}' END\": 1}\n",
      "ALL: \n",
      "[\"'IMPORT' 'JAVA' '.'\", \"'JAVA' '.' 'IO'\", \"'.' 'IO' '.'\", \"'IO' '.' '*'\", \"'.' '*' ';'\", \"'*' ';' 'IMPORT'\", \"';' 'IMPORT' 'JAVA'\", \"'JAVA' '.' 'UTIL'\", \"'.' 'UTIL' '.'\", \"'UTIL' '.' '*'\", \"'JAVA' '.' 'LANG'\", \"'.' 'LANG' '.'\", \"'LANG' '.' '*'\", \"'*' ';' 'PUBLIC'\", \"';' 'PUBLIC' 'CLASS'\", \"'PUBLIC' 'CLASS' 'C'\", \"'CLASS' 'C' '{'\", \"'C' '{' 'PUBLIC'\", \"'{' 'PUBLIC' 'STATIC'\", \"'PUBLIC' 'STATIC' 'VOID'\", \"'STATIC' 'VOID' 'MAIN'\", \"'VOID' 'MAIN' '('\", \"'MAIN' '(' 'STRING'\", \"'(' 'STRING' '['\", \"'STRING' '[' ']'\", \"'[' ']' 'ARGS'\", \"']' 'ARGS' ')'\", \"'ARGS' ')' '{'\", \"')' '{' 'INPUTSTREAM'\", \"'{' 'INPUTSTREAM' 'INPUTSTREAM'\", \"'INPUTSTREAM' 'INPUTSTREAM' '='\", \"'INPUTSTREAM' '=' 'SYSTEM'\", \"'=' 'SYSTEM' '.'\", \"'SYSTEM' '.' 'IN'\", \"'.' 'IN' ';'\", \"'IN' ';' 'OUTPUTSTREAM'\", \"';' 'OUTPUTSTREAM' 'OUTPUTSTREAM'\", \"'OUTPUTSTREAM' 'OUTPUTSTREAM' '='\", \"'OUTPUTSTREAM' '=' 'SYSTEM'\", \"'SYSTEM' '.' 'OUT'\", \"'.' 'OUT' ';'\", \"'OUT' ';' 'INPUTREADER'\", \"';' 'INPUTREADER' 'IN'\", \"'INPUTREADER' 'IN' '='\", \"'IN' '=' 'NEW'\", \"'=' 'NEW' 'INPUTREADER'\", \"'NEW' 'INPUTREADER' '('\", \"'INPUTREADER' '(' 'INPUTSTREAM'\", \"'(' 'INPUTSTREAM' ')'\", \"'INPUTSTREAM' ')' ';'\", \"')' ';' 'PRINTWRITER'\", \"';' 'PRINTWRITER' 'OUT'\", \"'PRINTWRITER' 'OUT' '='\", \"'OUT' '=' 'NEW'\", \"'=' 'NEW' 'PRINTWRITER'\", \"'NEW' 'PRINTWRITER' '('\", \"'PRINTWRITER' '(' 'OUTPUTSTREAM'\", \"'(' 'OUTPUTSTREAM' ')'\", \"'OUTPUTSTREAM' ')' ';'\", \"')' ';' 'SOLVER'\", \"';' 'SOLVER' 'SOLVER'\", \"'SOLVER' 'SOLVER' '='\", \"'SOLVER' '=' 'NEW'\", \"'=' 'NEW' 'SOLVER'\", \"'NEW' 'SOLVER' '('\", \"'SOLVER' '(' ')'\", \"'(' ')' ';'\", \"';' 'SOLVER' '.'\", \"'SOLVER' '.' 'MAIN'\", \"'.' 'MAIN' '('\", \"'MAIN' '(' 'IN'\", \"'(' 'IN' ','\", \"'IN' ',' 'OUT'\", \"',' 'OUT' ')'\", \"'OUT' ')' ';'\", \"')' ';' 'OUT'\", \"';' 'OUT' '.'\", \"'OUT' '.' 'CLOSE'\", \"'.' 'CLOSE' '('\", \"'CLOSE' '(' ')'\", \"')' ';' '}'\", \"';' '}' 'STATIC'\", \"'}' 'STATIC' 'CLASS'\", \"'STATIC' 'CLASS' 'SOLVER'\", \"'CLASS' 'SOLVER' '{'\", \"'SOLVER' '{' 'PUBLIC'\", \"'{' 'PUBLIC' 'VOID'\", \"'PUBLIC' 'VOID' 'MAIN'\", \"'MAIN' '(' 'INPUTREADER'\", \"'(' 'INPUTREADER' 'IN'\", \"'INPUTREADER' 'IN' ','\", \"'IN' ',' 'PRINTWRITER'\", \"',' 'PRINTWRITER' 'OUT'\", \"'PRINTWRITER' 'OUT' ')'\", \"'OUT' ')' '{'\", \"')' '{' 'INT'\", \"'{' 'INT' 'T'\", \"'INT' 'T' '='\", \"'T' '=' 'IN'\", \"'=' 'IN' '.'\", \"'IN' '.' 'NEXTINT'\", \"'.' 'NEXTINT' '('\", \"'NEXTINT' '(' ')'\", \"')' ';' 'FOR'\", \"';' 'FOR' '('\", \"'FOR' '(' 'INT'\", \"'(' 'INT' 'T'\", \"'T' '=' numeric constant\", \"'=' numeric constant ';'\", \"numeric constant ';' 'T'\", \"';' 'T' '<'\", \"'T' '<' 'T'\", \"'<' 'T' ';'\", \"'T' ';' 'T'\", \"';' 'T' '+'\", \"'T' '+' '+'\", \"'+' '+' ')'\", \"'+' ')' '{'\", \"'{' 'INT' 'N'\", \"'INT' 'N' '='\", \"'N' '=' 'IN'\", \"')' ';' 'STRING'\", \"';' 'STRING' '['\", \"'[' ']' 'A'\", \"']' 'A' '='\", \"'A' '=' 'NEW'\", \"'=' 'NEW' 'STRING'\", \"'NEW' 'STRING' '['\", \"'STRING' '[' 'N'\", \"'[' 'N' ']'\", \"'N' ']' ';'\", \"']' ';' 'FOR'\", \"'(' 'INT' 'I'\", \"'INT' 'I' '='\", \"'I' '=' numeric constant\", \"numeric constant ';' 'I'\", \"';' 'I' '<'\", \"'I' '<' 'N'\", \"'<' 'N' ';'\", \"'N' ';' 'I'\", \"';' 'I' '+'\", \"'I' '+' '+'\", \"')' '{' 'A'\", \"'{' 'A' '['\", \"'A' '[' 'I'\", \"'[' 'I' ']'\", \"'I' ']' '='\", \"']' '=' 'IN'\", \"'IN' '.' 'NEXT'\", \"'.' 'NEXT' '('\", \"'NEXT' '(' ')'\", \"';' '}' 'INT'\", \"'}' 'INT' 'ANS'\", \"'INT' 'ANS' '='\", \"'ANS' '=' numeric constant\", \"numeric constant ';' 'FOR'\", \"'FOR' '(' 'CHAR'\", \"'(' 'CHAR' 'C'\", \"'CHAR' 'C' '='\", \"'C' '=' '''\", \"'=' ''' 'A'\", \"''' 'A' '''\", \"'A' ''' ';'\", \"''' ';' 'C'\", \"';' 'C' '<='\", \"'C' '<=' '''\", \"'<=' ''' 'E'\", \"''' 'E' '''\", \"'E' ''' ';'\", \"';' 'C' '+'\", \"'C' '+' '+'\", \"'{' 'INT' '['\", \"'INT' '[' ']'\", \"'[' ']' 'LS'\", \"']' 'LS' '='\", \"'LS' '=' 'NEW'\", \"'=' 'NEW' 'INT'\", \"'NEW' 'INT' '['\", \"'INT' '[' 'N'\", \"'{' 'INT' 'DELTA'\", \"'INT' 'DELTA' '='\", \"'DELTA' '=' numeric constant\", \"'(' 'INT' 'J'\", \"'INT' 'J' '='\", \"'J' '=' numeric constant\", \"numeric constant ';' 'J'\", \"';' 'J' '<'\", \"'J' '<' 'A'\", \"'<' 'A' '['\", \"'I' ']' '.'\", \"']' '.' 'LENGTH'\", \"'.' 'LENGTH' '('\", \"'LENGTH' '(' ')'\", \"')' ';' 'J'\", \"';' 'J' '+'\", \"'J' '+' '+'\", \"')' '{' 'if'\", \"'{' 'if' '('\", \"'if' '(' 'A'\", \"'(' 'A' '['\", \"']' '.' 'CHARAT'\", \"'.' 'CHARAT' '('\", \"'CHARAT' '(' 'J'\", \"'(' 'J' ')'\", \"'J' ')' '='\", \"')' '=' '='\", \"'=' '=' 'C'\", \"'=' 'C' ')'\", \"'C' ')' '{'\", \"')' '{' 'DELTA'\", \"'{' 'DELTA' '+'\", \"'DELTA' '+' '='\", \"'+' '=' numeric constant\", \"numeric constant ';' '}'\", \"';' '}' 'ELSE'\", \"'}' 'ELSE' '{'\", \"'ELSE' '{' 'DELTA'\", \"'{' 'DELTA' '-'\", \"'DELTA' '-' '='\", \"'-' '=' numeric constant\", \"';' '}' '}'\", \"'}' '}' 'LS'\", \"'}' 'LS' '['\", \"'LS' '[' 'I'\", \"']' '=' 'DELTA'\", \"'=' 'DELTA' ';'\", \"'DELTA' ';' '}'\", \"';' '}' 'ARRAYS'\", \"'}' 'ARRAYS' '.'\", \"'ARRAYS' '.' 'SORT'\", \"'.' 'SORT' '('\", \"'SORT' '(' 'LS'\", \"'(' 'LS' ','\", \"'LS' ',' numeric constant\", \"',' numeric constant ','\", \"numeric constant ',' 'N'\", \"',' 'N' ')'\", \"'N' ')' ';'\", \"')' ';' 'INT'\", \"';' 'INT' 'CUR'\", \"'INT' 'CUR' '='\", \"'CUR' '=' numeric constant\", \"numeric constant ';' 'INT'\", \"';' 'INT' 'SCORE'\", \"'INT' 'SCORE' '='\", \"'SCORE' '=' numeric constant\", \"'I' '=' 'N'\", \"'=' 'N' '-'\", \"'N' '-' numeric constant\", \"'-' numeric constant ';'\", \"';' 'I' '>='\", \"'I' '>=' numeric constant\", \"'>=' numeric constant ';'\", \"';' 'I' '-'\", \"'I' '-' '-'\", \"'-' '-' ')'\", \"'-' ')' '{'\", \"'if' '(' 'CUR'\", \"'(' 'CUR' '+'\", \"'CUR' '+' 'LS'\", \"'+' 'LS' '['\", \"'I' ']' '>='\", \"']' '>=' numeric constant\", \"'>=' numeric constant ')'\", \"numeric constant ')' '{'\", \"')' '{' 'CUR'\", \"'{' 'CUR' '+'\", \"'CUR' '+' '='\", \"'+' '=' 'LS'\", \"'=' 'LS' '['\", \"'I' ']' ';'\", \"']' ';' 'SCORE'\", \"';' 'SCORE' '+'\", \"'SCORE' '+' '='\", \"'}' '}' 'ANS'\", \"'}' 'ANS' '='\", \"'ANS' '=' 'MATH'\", \"'=' 'MATH' '.'\", \"'MATH' '.' 'MAX'\", \"'.' 'MAX' '('\", \"'MAX' '(' 'ANS'\", \"'(' 'ANS' ','\", \"'ANS' ',' 'SCORE'\", \"',' 'SCORE' ')'\", \"'SCORE' ')' ';'\", \"';' '}' 'OUT'\", \"'}' 'OUT' '.'\", \"'OUT' '.' 'PRINTLN'\", \"'.' 'PRINTLN' '('\", \"'PRINTLN' '(' 'ANS'\", \"'(' 'ANS' ')'\", \"'ANS' ')' ';'\", \"'}' '}' '}'\", \"'}' '}' 'STATIC'\", \"'STATIC' 'CLASS' 'INPUTREADER'\", \"'CLASS' 'INPUTREADER' '{'\", \"'INPUTREADER' '{' 'PUBLIC'\", \"'{' 'PUBLIC' 'BUFFEREDREADER'\", \"'PUBLIC' 'BUFFEREDREADER' 'READER'\", \"'BUFFEREDREADER' 'READER' ';'\", \"'READER' ';' 'PUBLIC'\", \"';' 'PUBLIC' 'STRINGTOKENIZER'\", \"'PUBLIC' 'STRINGTOKENIZER' 'TOKENIZER'\", \"'STRINGTOKENIZER' 'TOKENIZER' ';'\", \"'TOKENIZER' ';' 'PUBLIC'\", \"';' 'PUBLIC' 'INPUTREADER'\", \"'PUBLIC' 'INPUTREADER' '('\", \"'(' 'INPUTSTREAM' 'STREAM'\", \"'INPUTSTREAM' 'STREAM' ')'\", \"'STREAM' ')' '{'\", \"')' '{' 'READER'\", \"'{' 'READER' '='\", \"'READER' '=' 'NEW'\", \"'=' 'NEW' 'BUFFEREDREADER'\", \"'NEW' 'BUFFEREDREADER' '('\", \"'BUFFEREDREADER' '(' 'NEW'\", \"'(' 'NEW' 'INPUTSTREAMREADER'\", \"'NEW' 'INPUTSTREAMREADER' '('\", \"'INPUTSTREAMREADER' '(' 'STREAM'\", \"'(' 'STREAM' ')'\", \"'STREAM' ')' ','\", \"')' ',' numeric constant\", \"',' numeric constant ')'\", \"numeric constant ')' ';'\", \"')' ';' 'TOKENIZER'\", \"';' 'TOKENIZER' '='\", \"'TOKENIZER' '=' 'NULL'\", \"'=' 'NULL' ';'\", \"'NULL' ';' '}'\", \"';' '}' 'PUBLIC'\", \"'}' 'PUBLIC' 'STRING'\", \"'PUBLIC' 'STRING' 'NEXT'\", \"'STRING' 'NEXT' '('\", \"'(' ')' '{'\", \"')' '{' 'WHILE'\", \"'{' 'WHILE' '('\", \"'WHILE' '(' 'TOKENIZER'\", \"'(' 'TOKENIZER' '='\", \"'TOKENIZER' '=' '='\", \"'=' '=' 'NULL'\", \"'=' 'NULL' '|'\", \"'NULL' '|' '|'\", \"'|' '|' '!'\", \"'|' '!' 'TOKENIZER'\", \"'!' 'TOKENIZER' '.'\", \"'TOKENIZER' '.' 'HASMORETOKENS'\", \"'.' 'HASMORETOKENS' '('\", \"'HASMORETOKENS' '(' ')'\", \"'(' ')' ')'\", \"')' ')' '{'\", \"')' '{' 'TRY'\", \"'{' 'TRY' '{'\", \"'TRY' '{' 'TOKENIZER'\", \"'{' 'TOKENIZER' '='\", \"'TOKENIZER' '=' 'NEW'\", \"'=' 'NEW' 'STRINGTOKENIZER'\", \"'NEW' 'STRINGTOKENIZER' '('\", \"'STRINGTOKENIZER' '(' 'READER'\", \"'(' 'READER' '.'\", \"'READER' '.' 'READLINE'\", \"'.' 'READLINE' '('\", \"'READLINE' '(' ')'\", \"')' ')' ';'\", \"';' '}' 'CATCH'\", \"'}' 'CATCH' '('\", \"'CATCH' '(' 'IOEXCEPTION'\", \"'(' 'IOEXCEPTION' 'E'\", \"'IOEXCEPTION' 'E' ')'\", \"'E' ')' '{'\", \"')' '{' 'THROW'\", \"'{' 'THROW' 'NEW'\", \"'THROW' 'NEW' 'RUNTIMEEXCEPTION'\", \"'NEW' 'RUNTIMEEXCEPTION' '('\", \"'RUNTIMEEXCEPTION' '(' 'E'\", \"'(' 'E' ')'\", \"'E' ')' ';'\", \"'}' '}' 'RETURN'\", \"'}' 'RETURN' 'TOKENIZER'\", \"'RETURN' 'TOKENIZER' '.'\", \"'TOKENIZER' '.' 'NEXTTOKEN'\", \"'.' 'NEXTTOKEN' '('\", \"'NEXTTOKEN' '(' ')'\", \"'}' 'PUBLIC' 'INT'\", \"'PUBLIC' 'INT' 'NEXTINT'\", \"'INT' 'NEXTINT' '('\", \"')' '{' 'RETURN'\", \"'{' 'RETURN' 'INTEGER'\", \"'RETURN' 'INTEGER' '.'\", \"'INTEGER' '.' 'PARSEINT'\", \"'.' 'PARSEINT' '('\", \"'PARSEINT' '(' 'NEXT'\", \"'(' 'NEXT' '('\", \"'}' '}' END\", \"'PUBLIC' 'CLASS' 'MAIN'\", \"'CLASS' 'MAIN' '{'\", \"'MAIN' '{' 'PUBLIC'\", \"'ARGS' ')' 'THROWS'\", \"')' 'THROWS' 'IOEXCEPTION'\", \"'THROWS' 'IOEXCEPTION' '{'\", \"'IOEXCEPTION' '{' 'SCANNER'\", \"'{' 'SCANNER' 'SC'\", \"'SCANNER' 'SC' '='\", \"'SC' '=' 'NEW'\", \"'=' 'NEW' 'SCANNER'\", \"'NEW' 'SCANNER' '('\", \"'SCANNER' '(' 'SYSTEM'\", \"'(' 'SYSTEM' '.'\", \"'.' 'IN' ')'\", \"'IN' ')' ';'\", \"';' 'PRINTWRITER' 'PW'\", \"'PRINTWRITER' 'PW' '='\", \"'PW' '=' 'NEW'\", \"'PRINTWRITER' '(' 'SYSTEM'\", \"'.' 'OUT' ')'\", \"';' 'INT' 'T'\", \"'T' '=' 'SC'\", \"'=' 'SC' '.'\", \"'SC' '.' 'NEXTINT'\", \"')' ';' 'WHILE'\", \"';' 'WHILE' '('\", \"'WHILE' '(' 'T'\", \"'(' 'T' '-'\", \"'T' '-' '-'\", \"'-' '-' '>'\", \"'-' '>' numeric constant\", \"'>' numeric constant ')'\", \"'N' '=' 'SC'\", \"'[' ']' 'S'\", \"']' 'S' '='\", \"'S' '=' 'NEW'\", \"'I' '<' ';'\", \"'<' ';' 'I'\", \"'+' ')' 'S'\", \"')' 'S' '['\", \"'S' '[' 'I'\", \"']' '=' 'SC'\", \"'SC' '.' 'NEXT'\", \"';' 'INT' 'MAX'\", \"'INT' 'MAX' '='\", \"'MAX' '=' numeric constant\", \"')' '{' 'PRIORITYQUEUE'\", \"'{' 'PRIORITYQUEUE' '<'\", \"'PRIORITYQUEUE' '<' 'NTEGER'\", \"'<' 'NTEGER' '>'\", \"'NTEGER' '>' 'PQ'\", \"'>' 'PQ' '='\", \"'PQ' '=' 'NEW'\", \"'=' 'NEW' 'PRIORITYQUEUE'\", \"'NEW' 'PRIORITYQUEUE' '<'\", \"'PRIORITYQUEUE' '<' '('\", \"'<' '(' 'COLLECTIONS'\", \"'(' 'COLLECTIONS' '.'\", \"'COLLECTIONS' '.' 'REVERSEORDER'\", \"'.' 'REVERSEORDER' '('\", \"'REVERSEORDER' '(' ')'\", \"')' ';' '/'\", \"';' '/' '/'\", \"'/' '/' 'BIG'\", \"'/' 'BIG' 'COMES'\", \"'BIG' 'COMES' 'IN'\", \"'COMES' 'IN' 'TOP'\", \"'IN' 'TOP' ';'\", \"'TOP' ';' 'FOR'\", \"'<' ';' '+'\", \"';' '+' '+'\", \"'+' '+' 'I'\", \"'+' 'I' ')'\", \"'I' ')' '{'\", \"'{' 'INT' 'CURCHAR'\", \"'INT' 'CURCHAR' '='\", \"'CURCHAR' '=' numeric constant\", \"';' 'INT' 'OTHERCHAR'\", \"'INT' 'OTHERCHAR' '='\", \"'OTHERCHAR' '=' numeric constant\", \"'J' '<' '['\", \"'<' '[' 'I'\", \"'if' '(' 'S'\", \"'(' 'S' '['\", \"'C' ')' 'CURCHAR'\", \"')' 'CURCHAR' '+'\", \"'CURCHAR' '+' '+'\", \"'+' '+' ';'\", \"'+' ';' 'ELSE'\", \"';' 'ELSE' 'OTHERCHAR'\", \"'ELSE' 'OTHERCHAR' '+'\", \"'OTHERCHAR' '+' '+'\", \"'+' ';' '}'\", \"'}' 'INT' 'DIFF'\", \"'INT' 'DIFF' '='\", \"'DIFF' '=' 'CURCHAR'\", \"'=' 'CURCHAR' '-'\", \"'CURCHAR' '-' 'OTHERCHAR'\", \"'-' 'OTHERCHAR' ';'\", \"'OTHERCHAR' ';' 'PQ'\", \"';' 'PQ' '.'\", \"'PQ' '.' 'ADD'\", \"'.' 'ADD' '('\", \"'ADD' '(' 'DIFF'\", \"'(' 'DIFF' ')'\", \"'DIFF' ')' ';'\", \"'}' 'INT' 'CUR'\", \"';' 'INT' 'NUMBEROFWORDS'\", \"'INT' 'NUMBEROFWORDS' '='\", \"'NUMBEROFWORDS' '=' numeric constant\", \"numeric constant ';' 'WHILE'\", \"'WHILE' '(' '!'\", \"'(' '!' 'PQ'\", \"'!' 'PQ' '.'\", \"'PQ' '.' 'ISEMPTY'\", \"'.' 'ISEMPTY' '('\", \"'ISEMPTY' '(' ')'\", \"'CUR' '+' 'PQ'\", \"'+' 'PQ' '.'\", \"'PQ' '.' 'PEEK'\", \"'.' 'PEEK' '('\", \"'PEEK' '(' ')'\", \"'(' ')' '>'\", \"')' '>' numeric constant\", \"'+' '=' 'PQ'\", \"'=' 'PQ' '.'\", \"'PQ' '.' 'POLL'\", \"'.' 'POLL' '('\", \"'POLL' '(' ')'\", \"')' ';' 'NUMBEROFWORDS'\", \"';' 'NUMBEROFWORDS' '+'\", \"'NUMBEROFWORDS' '+' '+'\", \"'ELSE' '{' 'BREAK'\", \"'{' 'BREAK' ';'\", \"'BREAK' ';' '}'\", \"'}' '}' 'MAX'\", \"'}' 'MAX' '='\", \"'MAX' '=' 'MATH'\", \"'MAX' '(' 'MAX'\", \"'(' 'MAX' ','\", \"'MAX' ',' 'NUMBEROFWORDS'\", \"',' 'NUMBEROFWORDS' ')'\", \"'NUMBEROFWORDS' ')' ';'\", \"';' '}' 'PW'\", \"'}' 'PW' '.'\", \"'PW' '.' 'PRINTLN'\", \"'PRINTLN' '(' 'MAX'\", \"'(' 'MAX' ')'\", \"'MAX' ')' ';'\", \"'PW' '.' 'CLOSE'\", \"'STATIC' 'CLASS' 'SCANNER'\", \"'CLASS' 'SCANNER' '{'\", \"'SCANNER' '{' 'BUFFEREDREADER'\", \"'{' 'BUFFEREDREADER' 'BR'\", \"'BUFFEREDREADER' 'BR' ';'\", \"'BR' ';' 'STRINGTOKENIZER'\", \"';' 'STRINGTOKENIZER' 'ST'\", \"'STRINGTOKENIZER' 'ST' ';'\", \"'ST' ';' 'PUBLIC'\", \"';' 'PUBLIC' 'SCANNER'\", \"'PUBLIC' 'SCANNER' '('\", \"'SCANNER' '(' 'INPUTSTREAM'\", \"'(' 'INPUTSTREAM' 'S'\", \"'INPUTSTREAM' 'S' ')'\", \"'S' ')' '{'\", \"')' '{' 'BR'\", \"'{' 'BR' '='\", \"'BR' '=' 'NEW'\", \"'INPUTSTREAMREADER' '(' 'S'\", \"'(' 'S' ')'\", \"'S' ')' ')'\", \"'}' 'PUBLIC' 'SCANNER'\", \"'SCANNER' '(' 'FILEREADER'\", \"'(' 'FILEREADER' 'F'\", \"'FILEREADER' 'F' ')'\", \"'F' ')' '{'\", \"'BUFFEREDREADER' '(' 'F'\", \"'(' 'F' ')'\", \"'F' ')' ';'\", \"'(' ')' 'THROWS'\", \"'IOEXCEPTION' '{' 'WHILE'\", \"'WHILE' '(' 'ST'\", \"'(' 'ST' '='\", \"'ST' '=' '='\", \"'|' '!' 'ST'\", \"'!' 'ST' '.'\", \"'ST' '.' 'HASMORETOKENS'\", \"')' ')' 'ST'\", \"')' 'ST' '='\", \"'ST' '=' 'NEW'\", \"'STRINGTOKENIZER' '(' 'BR'\", \"'(' 'BR' '.'\", \"'BR' '.' 'READLINE'\", \"')' ';' 'RETURN'\", \"';' 'RETURN' 'ST'\", \"'RETURN' 'ST' '.'\", \"'ST' '.' 'NEXTTOKEN'\", \"'IOEXCEPTION' '{' 'RETURN'\", \"'}' 'PUBLIC' 'LONG'\", \"'PUBLIC' 'LONG' 'NEXTLONG'\", \"'LONG' 'NEXTLONG' '('\", \"'NEXTLONG' '(' ')'\", \"'{' 'RETURN' 'LONG'\", \"'RETURN' 'LONG' '.'\", \"'LONG' '.' 'PARSELONG'\", \"'.' 'PARSELONG' '('\", \"'PARSELONG' '(' 'NEXT'\", \"'}' 'PUBLIC' 'DOUBLE'\", \"'PUBLIC' 'DOUBLE' 'NEXTDOUBLE'\", \"'DOUBLE' 'NEXTDOUBLE' '('\", \"'NEXTDOUBLE' '(' ')'\", \"'{' 'RETURN' 'DOUBLE'\", \"'RETURN' 'DOUBLE' '.'\", \"'DOUBLE' '.' 'PARSEDOUBLE'\", \"'.' 'PARSEDOUBLE' '('\", \"'PARSEDOUBLE' '(' 'NEXT'\", \"'PUBLIC' 'INT' '['\", \"'[' ']' 'NEXTINTARR'\", \"']' 'NEXTINTARR' '('\", \"'NEXTINTARR' '(' 'INT'\", \"'(' 'INT' 'N'\", \"'INT' 'N' ')'\", \"'N' ')' 'THROWS'\", \"'IOEXCEPTION' '{' 'INT'\", \"'[' ']' 'ARR'\", \"']' 'ARR' '='\", \"'ARR' '=' 'NEW'\", \"')' '{' 'ARR'\", \"'{' 'ARR' '['\", \"'ARR' '[' 'I'\", \"']' '=' 'INTEGER'\", \"'=' 'INTEGER' '.'\", \"';' '}' 'RETURN'\", \"'}' 'RETURN' 'ARR'\", \"'RETURN' 'ARR' ';'\", \"'ARR' ';' '}'\"]\n",
      "vector1:\n",
      "[3, 1, 1, 1, 3, 2, 2, 1, 1, 1, 1, 1, 1, 1, 1, 1, 1, 1, 1, 1, 1, 2, 1, 1, 2, 1, 1, 1, 1, 1, 1, 1, 2, 1, 1, 1, 1, 1, 1, 1, 1, 1, 1, 1, 1, 1, 1, 2, 1, 1, 1, 1, 1, 1, 1, 1, 1, 1, 1, 2, 1, 1, 1, 1, 1, 1, 7, 1, 1, 1, 1, 1, 1, 1, 1, 1, 1, 1, 1, 1, 8, 1, 2, 1, 1, 1, 1, 1, 1, 1, 1, 1, 1, 1, 1, 4, 1, 2, 1, 3, 2, 2, 3, 1, 6, 5, 1, 1, 11, 1, 1, 1, 1, 1, 1, 1, 5, 5, 1, 1, 1, 1, 1, 1, 1, 1, 1, 1, 1, 2, 2, 2, 3, 3, 2, 4, 2, 2, 2, 2, 2, 2, 1, 1, 3, 6, 2, 1, 1, 1, 3, 1, 1, 1, 1, 3, 1, 1, 1, 1, 1, 1, 1, 2, 1, 1, 1, 1, 1, 1, 1, 1, 1, 1, 1, 1, 1, 1, 1, 1, 1, 1, 1, 1, 1, 1, 1, 1, 1, 2, 1, 1, 1, 1, 1, 1, 2, 2, 1, 1, 1, 1, 1, 1, 1, 1, 1, 1, 1, 1, 1, 1, 2, 3, 1, 1, 1, 1, 1, 1, 5, 1, 1, 3, 1, 1, 1, 1, 1, 1, 1, 1, 1, 1, 1, 1, 1, 1, 1, 1, 1, 1, 1, 1, 1, 1, 1, 1, 1, 1, 1, 1, 1, 1, 1, 1, 1, 1, 1, 1, 1, 1, 1, 1, 1, 1, 1, 1, 1, 1, 1, 1, 1, 1, 1, 1, 1, 1, 1, 1, 1, 1, 1, 1, 1, 1, 1, 1, 1, 1, 1, 1, 2, 1, 1, 1, 1, 1, 1, 1, 1, 1, 1, 1, 1, 1, 1, 1, 1, 1, 1, 1, 1, 1, 1, 1, 1, 1, 1, 1, 1, 1, 1, 1, 1, 1, 1, 1, 1, 2, 1, 1, 1, 2, 1, 1, 1, 1, 1, 1, 1, 1, 1, 1, 1, 1, 1, 1, 3, 1, 1, 1, 1, 1, 1, 1, 1, 1, 1, 1, 1, 1, 2, 1, 1, 1, 1, 1, 1, 1, 1, 1, 1, 1, 1, 1, 1, 1, 1, 1, 1, 1, 1, 1, 1, 1, 1, 1, 1, 1, 1, 1, 1, 0, 0, 0, 0, 0, 0, 0, 0, 0, 0, 0, 0, 0, 0, 0, 0, 0, 0, 0, 0, 0, 0, 0, 0, 0, 0, 0, 0, 0, 0, 0, 0, 0, 0, 0, 0, 0, 0, 0, 0, 0, 0, 0, 0, 0, 0, 0, 0, 0, 0, 0, 0, 0, 0, 0, 0, 0, 0, 0, 0, 0, 0, 0, 0, 0, 0, 0, 0, 0, 0, 0, 0, 0, 0, 0, 0, 0, 0, 0, 0, 0, 0, 0, 0, 0, 0, 0, 0, 0, 0, 0, 0, 0, 0, 0, 0, 0, 0, 0, 0, 0, 0, 0, 0, 0, 0, 0, 0, 0, 0, 0, 0, 0, 0, 0, 0, 0, 0, 0, 0, 0, 0, 0, 0, 0, 0, 0, 0, 0, 0, 0, 0, 0, 0, 0, 0, 0, 0, 0, 0, 0, 0, 0, 0, 0, 0, 0, 0, 0, 0, 0, 0, 0, 0, 0, 0, 0, 0, 0, 0, 0, 0, 0, 0, 0, 0, 0, 0, 0, 0, 0, 0, 0, 0, 0, 0, 0, 0, 0, 0, 0, 0, 0, 0, 0, 0, 0, 0, 0, 0, 0, 0, 0, 0, 0, 0, 0, 0, 0, 0, 0, 0, 0, 0, 0, 0, 0, 0, 0, 0, 0, 0, 0, 0, 0, 0, 0, 0, 0, 0, 0, 0, 0, 0, 0, 0, 0, 0, 0, 0, 0, 0, 0, 0, 0, 0, 0]\n",
      "vector2:\n",
      "[2, 1, 1, 1, 2, 1, 1, 1, 1, 1, 0, 0, 0, 1, 1, 0, 0, 0, 1, 1, 1, 1, 1, 1, 2, 1, 1, 0, 0, 0, 0, 0, 0, 1, 0, 0, 0, 0, 0, 1, 0, 0, 0, 0, 0, 0, 0, 0, 0, 0, 1, 0, 0, 0, 1, 1, 0, 0, 0, 0, 0, 0, 0, 0, 0, 0, 7, 0, 0, 0, 0, 0, 0, 0, 1, 0, 0, 0, 1, 1, 11, 1, 1, 0, 0, 0, 0, 0, 0, 0, 0, 0, 0, 0, 0, 2, 0, 1, 0, 0, 0, 2, 3, 0, 5, 4, 0, 0, 9, 0, 0, 0, 0, 0, 0, 0, 4, 3, 1, 1, 0, 1, 1, 0, 0, 0, 1, 1, 1, 2, 2, 2, 3, 3, 3, 3, 3, 1, 1, 1, 2, 2, 0, 0, 0, 4, 2, 0, 0, 1, 6, 2, 0, 0, 0, 2, 1, 1, 1, 1, 1, 1, 1, 2, 1, 1, 1, 1, 1, 1, 1, 1, 2, 0, 0, 0, 1, 1, 1, 0, 0, 0, 1, 1, 1, 1, 1, 0, 0, 2, 1, 1, 1, 1, 1, 1, 2, 2, 0, 0, 1, 1, 1, 1, 1, 1, 1, 1, 0, 0, 0, 0, 0, 0, 1, 1, 0, 0, 0, 0, 2, 0, 0, 0, 0, 0, 0, 0, 0, 0, 0, 0, 0, 0, 0, 0, 0, 0, 2, 0, 1, 1, 2, 0, 0, 0, 0, 0, 0, 0, 0, 0, 0, 0, 0, 0, 0, 1, 1, 0, 0, 0, 0, 0, 2, 1, 1, 1, 0, 0, 0, 0, 0, 0, 0, 0, 0, 1, 1, 1, 0, 0, 0, 0, 0, 0, 0, 0, 1, 0, 0, 0, 1, 0, 0, 0, 0, 0, 0, 0, 0, 0, 0, 0, 0, 0, 0, 0, 0, 0, 0, 0, 0, 2, 2, 1, 1, 1, 0, 0, 0, 0, 0, 0, 0, 0, 0, 0, 0, 6, 1, 1, 1, 0, 0, 1, 0, 0, 0, 1, 1, 1, 1, 0, 0, 0, 1, 1, 8, 1, 0, 0, 0, 0, 0, 1, 1, 0, 0, 0, 1, 1, 7, 0, 0, 0, 0, 0, 0, 0, 0, 0, 0, 0, 0, 0, 0, 0, 0, 0, 1, 1, 2, 1, 1, 0, 1, 1, 2, 2, 2, 4, 1, 1, 1, 1, 1, 6, 6, 1, 1, 1, 1, 1, 1, 1, 2, 1, 1, 1, 1, 1, 1, 1, 1, 1, 3, 2, 1, 2, 1, 1, 1, 1, 1, 2, 1, 1, 1, 1, 2, 1, 1, 1, 2, 1, 1, 1, 1, 1, 1, 1, 1, 1, 1, 1, 1, 1, 1, 1, 1, 1, 1, 1, 1, 1, 1, 1, 1, 1, 1, 1, 1, 1, 1, 1, 1, 1, 1, 1, 1, 1, 1, 1, 1, 1, 1, 1, 1, 1, 1, 3, 1, 1, 1, 1, 2, 1, 1, 1, 1, 1, 1, 1, 1, 1, 1, 1, 1, 1, 1, 1, 1, 1, 1, 1, 1, 1, 1, 1, 1, 1, 1, 1, 1, 1, 1, 1, 1, 1, 1, 1, 1, 1, 1, 1, 1, 1, 1, 1, 1, 1, 1, 1, 1, 1, 1, 2, 2, 1, 1, 1, 1, 1, 1, 1, 1, 1, 1, 1, 1, 1, 1, 1, 2, 1, 1, 1, 1, 2, 2, 2, 1, 1, 1, 1, 1, 1, 1, 1, 1, 1, 1, 4, 1, 1, 1, 1, 1, 1, 1, 1, 1, 1, 1, 1, 1, 1, 1, 1, 1, 3, 1, 1, 1, 1, 1, 1, 1, 1, 1, 1, 1, 1, 1, 1, 1, 1, 1, 1, 1, 1, 1, 1, 1, 1, 1, 1, 1, 1, 1, 1, 1, 1, 1, 1, 1, 1, 1, 1]\n"
     ]
    }
   ],
   "source": [
    "allNgrams = []\n",
    "\n",
    "token_words1 = getTokens(\"data/Train/00af3420_5449d33c/5449d33c.java\") \n",
    "token_words2 = getTokens(\"data/Train/00af3420_5449d33c/00af3420.java\")\n",
    "nGrams1,allNgrams = getNgrams(3,token_words1,allNgrams)\n",
    "nGrams2,allNgrams = getNgrams(3,token_words2,allNgrams)\n",
    "\n",
    "vector1 = getVector(nGrams1,allNgrams)\n",
    "vector2 = getVector(nGrams2,allNgrams)\n",
    "\n",
    "print(\"1: \")\n",
    "print(nGrams1)\n",
    "print(\"2: \") \n",
    "print(nGrams2)\n",
    "print(\"ALL: \")\n",
    "print(allNgrams)\n",
    "\n",
    "print(\"vector1:\")\n",
    "print(vector1)\n",
    "print(\"vector2:\")\n",
    "print(vector2)"
   ]
  },
  {
   "cell_type": "code",
   "execution_count": 70,
   "metadata": {},
   "outputs": [],
   "source": [
    "def cosineSimilarity(word_vectors):\n",
    "    \n",
    "    for i in range(len(word_vectors)):\n",
    "        word_vectors[i] = np.array(word_vectors[i])\n",
    "        \n",
    "    numerator = word_vectors[0]\n",
    "\n",
    "    for i in range(1, len(word_vectors)):\n",
    "        numerator = numerator * word_vectors[i]\n",
    "    \n",
    "    numerator = np.sum(numerator)\n",
    "\n",
    "    denominator = 1\n",
    "\n",
    "    for i in range(len(word_vectors)):\n",
    "        denominator *= np.sqrt(np.sum(word_vectors[i] ** 2))\n",
    "\n",
    "    return numerator / denominator"
   ]
  },
  {
   "cell_type": "code",
   "execution_count": 71,
   "metadata": {},
   "outputs": [
    {
     "name": "stdout",
     "output_type": "stream",
     "text": [
      "Cosine similarity: 0.6349800620156187\n"
     ]
    }
   ],
   "source": [
    " print('Cosine similarity:', cosineSimilarity([vector1, vector2]))"
   ]
  }
 ],
 "metadata": {
  "kernelspec": {
   "display_name": "Python 3",
   "language": "python",
   "name": "python3"
  },
  "language_info": {
   "codemirror_mode": {
    "name": "ipython",
    "version": 3
   },
   "file_extension": ".py",
   "mimetype": "text/x-python",
   "name": "python",
   "nbconvert_exporter": "python",
   "pygments_lexer": "ipython3",
   "version": "3.9.6"
  }
 },
 "nbformat": 4,
 "nbformat_minor": 2
}
