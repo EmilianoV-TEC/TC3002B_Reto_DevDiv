{
 "cells": [
  {
   "cell_type": "code",
   "execution_count": 11,
   "metadata": {},
   "outputs": [],
   "source": [
    "import os\n",
    "import glob\n",
    "import numpy as np\n",
    "import pandas as pd"
   ]
  },
  {
   "cell_type": "code",
   "execution_count": 78,
   "metadata": {},
   "outputs": [
    {
     "name": "stdout",
     "output_type": "stream",
     "text": [
      "import java.io.*;import java.util.*; import java.math.*;import java.awt.Point; public class Main {    static final long MOD = 1000000007L;    //static final long MOD2 = 1000000009L;    //static final long MOD = 998244353L;    //static final long INF = 500000000000L;    static final int INF =   1000000005;    static final int NINF = -1000000005;    //static final long INF = 1000000000000000000L;    static FastScanner sc;    static PrintWriter pw;    static final int[][] dirs = {{-1,0},{1,0},{0,-1},{0,1}};     public static void main(String[] args) {        sc = new FastScanner();        pw = new PrintWriter(System.out);          int Q = sc.ni();        for (int q = 0; q < Q; q++) {            int N = sc.ni();            int[] nums = sc.intArray(N,0);            Integer[] less = new Integer[N];            Integer[] more = new Integer[N];            TreeSet<Integer> ts = new TreeSet<Integer>();            for (int i = 0; i < N; i++) {                ts.add(nums[i]);                less[i] = ts.lower(nums[i]);                more[i] = ts.higher(nums[i]);            }                        String ans = \"YES\";            for (int i = 1; i < N; i++) {                if (nums[i-1]==nums[i]) continue;                                if (nums[i-1] < nums[i]) {                    if (more[i-1]!=null && more[i-1] < nums[i]) {                        ans = \"NO\";                        break;                    }                } else {                    if (less[i-1]!=null && less[i-1] > nums[i]) {                        ans = \"NO\";                        break;                    }                }            }            pw.println(ans);        }        pw.close();     }         public static void sort(int[] arr) {        Random rgen = new Random();        for (int i = 0; i < arr.length; i++) {            int r = rgen.nextInt(arr.length);            int temp = arr[i];            arr[i] = arr[r];            arr[r] = temp;        }        Arrays.sort(arr);    }     public static void sort(long[] arr) {        Random rgen = new Random();        for (int i = 0; i < arr.length; i++) {            int r = rgen.nextInt(arr.length);            long temp = arr[i];            arr[i] = arr[r];            arr[r] = temp;        }        Arrays.sort(arr);    }     //Sort an array (immune to quicksort TLE)    public static void sort(int[][] arr) {        Random rgen = new Random();        for (int i = 0; i < arr.length; i++) {            int r = rgen.nextInt(arr.length);            int[] temp = arr[i];            arr[i] = arr[r];            arr[r] = temp;        }        Arrays.sort(arr, new Comparator<int[]>() {            @Override            public int compare(int[] a, int[] b) {                return a[0]-b[0];            }        });    }        public static void sort(long[][] arr) {        Random rgen = new Random();        for (int i = 0; i < arr.length; i++) {            int r = rgen.nextInt(arr.length);            long[] temp = arr[i];            arr[i] = arr[r];            arr[r] = temp;        }        Arrays.sort(arr, new Comparator<long[]>() {            @Override            public int compare(long[] a, long[] b) {                if (a[0] > b[0])                    return 1;                else if (a[0] < b[0])                    return -1;                else                    return 0;                //Ascending order.            }        });    }     static class FastScanner {        BufferedReader br;        StringTokenizer st;         public FastScanner() {            br = new BufferedReader(new InputStreamReader(System.in), 32768);            st = null;        }         String next() {            while (st == null || !st.hasMoreElements()) {                try {                    st = new StringTokenizer(br.readLine());                } catch (IOException e) {                    e.printStackTrace();                }            }            return st.nextToken();        }         int ni() {            return Integer.parseInt(next());        }         int[][] graph(int N, int[][] edges) {            int[][] graph = new int[N][];            int[] sz = new int[N];            for (int[] e: edges) {                sz[e[0]] += 1;                sz[e[1]] += 1;            }            for (int i = 0; i < N; i++) {                graph[i] = new int[sz[i]];            }            int[] cur = new int[N];            for (int[] e: edges) {                graph[e[0]][cur[e[0]]] = e[1];                graph[e[1]][cur[e[1]]] = e[0];                cur[e[0]] += 1;                cur[e[1]] += 1;            }            return graph;        }         int[] intArray(int N, int mod) {            int[] ret = new int[N];            for (int i = 0; i < N; i++)                ret[i] = ni()+mod;            return ret;        }         char[] charArray(int N) {            char[] ret = new char[N];            for (int i = 0; i < N; i++)                ret[i] = next().charAt(0);            return ret;        }         long nl() {            return Long.parseLong(next());        }         long[] longArray(int N, long mod) {            long[] ret = new long[N];            for (int i = 0; i < N; i++)                ret[i] = nl()+mod;            return ret;        }         double nd() {            return Double.parseDouble(next());        }         String nextLine() {            String str = \"\";            try {                str = br.readLine();            } catch (IOException e) {                e.printStackTrace();            }            return str;        }    }}\n",
      "import java.io.*;import java.util.*; import java.math.*;import java.awt.Point; public class Main {    static final long MOD = 1000000007L;    //static final long MOD2 = 1000000009L;    //static final long MOD = 998244353L;    //static final long INF = 500000000000L;    static final int INF =   1000000005;    static final int NINF = -1000000005;    //static final long INF = 1000000000000000000L;    static FastScanner sc;    static PrintWriter pw;    static final int[][] dirs = {{-1,0},{1,0},{0,-1},{0,1}};     public static void main(String[] args) {        pw = new FastScanner();        jc = new PrintWriter(System.out);          int P = sc.ni();        for (int i = 0; q < P; r++) {            int N = sc.ni();            int[] nums = sc.intArray(N,0);            Integer[] less = new Integer[N];            Integer[] more = new Integer[N];            TreeSet<Integer> ts = new TreeSet<Integer>();            for (int i = 0; i < N; i++) {                ts.add(nums[i]);                less[i] = ts.lower(nums[i]);                more[i] = ts.higher(nums[i]);            }                        String ans = \"YES\";            for (int i = 1; i < N; i++) {                if (nums[i-1]==nums[i]) continue;                                if (nums[i-1] < nums[i]) {                    if (more[i-1]!=null && more[i-1] < nums[i]) {                        ans = \"NO\";                        break;                    }                } else {                    if (less[i-1]!=null && less[i-1] > nums[i]) {                        ans = \"NO\";                        break;                    }                }            }            pw.println(ans);        }        pw.close();     }         public static void sort(int[] arr) {        Random rgen = new Random();        for (int i = 0; i < arr.length; i++) {            int r = rgen.nextInt(arr.length);            int temp = arr[i];            arr[i] = arr[r];            arr[r] = temp;        }        Arrays.sort(arr);    }     public static void sort(long[] arr) {        Random rgen = new Random();        for (int i = 0; i < arr.length; i++) {            int r = rgen.nextInt(arr.length);            long temp = arr[i];            arr[i] = arr[r];            arr[r] = temp;        }        Arrays.sort(arr);    }     //Sort an array (immune to quicksort TLE)    public static void sort(int[][] arr) {        Random rgen = new Random();        for (int i = 0; i < arr.length; i++) {            int r = rgen.nextInt(arr.length);            int[] temp = arr[i];            arr[i] = arr[r];            arr[r] = temp;        }        Arrays.sort(arr, new Comparator<int[]>() {            @Override            public int compare(int[] a, int[] b) {                return a[0]-b[0];            }        });    }        public static void sort(long[][] arr) {        Random rgen = new Random();        for (int i = 0; i < arr.length; i++) {            int r = rgen.nextInt(arr.length);            long[] temp = arr[i];            arr[i] = arr[r];            arr[r] = temp;        }        Arrays.sort(arr, new Comparator<long[]>() {            @Override            public int compare(long[] a, long[] b) {                if (a[0] > b[0])                    return 1;                else if (a[0] < b[0])                    return -1;                else                    return 0;                //Ascending order.            }        });    }     static class FastScanner {        BufferedReader br;        StringTokenizer st;         public FastScanner() {            br = new BufferedReader(new InputStreamReader(System.in), 32768);            st = null;        }         String next() {            while (st == null || !st.hasMoreElements()) {                try {                    st = new StringTokenizer(br.readLine());                } catch (IOException e) {                    e.printStackTrace();                }            }            return st.nextToken();        }         int ni() {            return Integer.parseInt(next());        }         int[][] graph(int N, int[][] edges) {            int[][] graph = new int[N][];            int[] sz = new int[N];            for (int[] e: edges) {                sz[e[0]] += 1;                sz[e[1]] += 1;            }            for (int i = 0; i < N; i++) {                graph[i] = new int[sz[i]];            }            int[] cur = new int[N];            for (int[] e: edges) {                graph[e[0]][cur[e[0]]] = e[1];                graph[e[1]][cur[e[1]]] = e[0];                cur[e[0]] += 1;                cur[e[1]] += 1;            }            return graph;        }         int[] intArray(int N, int mod) {            int[] ret = new int[N];            for (int i = 0; i < N; i++)                ret[i] = ni()+mod;            return ret;        }         char[] charArray(int N) {            char[] ret = new char[N];            for (int i = 0; i < N; i++)                ret[i] = next().charAt(0);            return ret;        }         long nl() {            return Long.parseLong(next());        }         long[] longArray(int N, long mod) {            long[] ret = new long[N];            for (int i = 0; i < N; i++)                ret[i] = nl()+mod;            return ret;        }         double nd() {            return Double.parseDouble(next());        }         String nextLine() {            String str = \"\";            try {                str = br.readLine();            } catch (IOException e) {                e.printStackTrace();            }            return str;        }    }}\n"
     ]
    }
   ],
   "source": [
    "data_path = './data'\n",
    "train_data_path = os.path.join(data_path, 'Train')\n",
    "java_folder_path = train_data_path + '/*.java'\n",
    "        \n",
    "file_pair_list = []\n",
    "\n",
    "for _, folder_name in enumerate(glob.glob(train_data_path + '/*/')):\n",
    "    file_pair = []\n",
    "    for _, file_name in enumerate(glob.glob(folder_name + '/*.java')):\n",
    "        file_pair.append(file_name)\n",
    "    \n",
    "    file_pair_list.append(file_pair)\n",
    "\n",
    "file1_string = \"\"\n",
    "with open(\"./data/Train/0f6ca337_6843cc19/0f6ca337.java\", 'r') as file1:\n",
    "    file1_string = file1.read().replace('\\n', '')\n",
    "    print(file1_string)\n",
    "\n",
    "file2_string = \"\"\n",
    "with open(\"./data/Train/0f6ca337_6843cc19/6843cc19.java\", 'r') as file2:\n",
    "    file2_string = file2.read().replace('\\n', '')\n",
    "    print(file2_string)"
   ]
  },
  {
   "cell_type": "code",
   "execution_count": 79,
   "metadata": {},
   "outputs": [
    {
     "data": {
      "text/plain": [
       "'def read_tokens(text, bag, bag_aux):\\n    \\n    text = text + \" \"\\n    word_amount = {}\\n    words_full = bag\\n    word = \"\"\\n\\n    for letter in text:\\n        if word not in word_amount:\\n            word_amount[word] = 1\\n        else: \\n            word_amount[word] += 1\\n\\n        if letter not in bag_aux:\\n            word += letter.lower()\\n        elif word != \\'\\':\\n            words_full.append(word)\\n            word = \\'\\'        \\n        else:\\n            word = \"\"\\n    return words_full, word_amount'"
      ]
     },
     "execution_count": 79,
     "metadata": {},
     "output_type": "execute_result"
    }
   ],
   "source": [
    "\"\"\"def read_tokens(text, bag, bag_aux):\n",
    "    \n",
    "    text = text + \" \"\n",
    "    word_amount = {}\n",
    "    words_full = bag\n",
    "    word = \"\"\n",
    "\n",
    "    for letter in text:\n",
    "        if word not in word_amount:\n",
    "            word_amount[word] = 1\n",
    "        else: \n",
    "            word_amount[word] += 1\n",
    "\n",
    "        if letter not in bag_aux:\n",
    "            word += letter.lower()\n",
    "        elif word != '':\n",
    "            words_full.append(word)\n",
    "            word = ''        \n",
    "        else:\n",
    "            word = \"\"\n",
    "    return words_full, word_amount\"\"\""
   ]
  },
  {
   "cell_type": "code",
   "execution_count": 2,
   "metadata": {},
   "outputs": [],
   "source": [
    "def getNgrams(n, text,allNgrams):\n",
    "    nGrams = {}\n",
    "    for i in range(len(text)-n+1):\n",
    "        current = text[i]\n",
    "        for j in range(i+1,n+i):\n",
    "            current += \" \" + (text[j])\n",
    "        if current not in allNgrams:\n",
    "            allNgrams.append(current)\n",
    "        if current not in nGrams:\n",
    "            nGrams[current] = 1\n",
    "        else:\n",
    "            nGrams[current] += 1\n",
    "    return nGrams,allNgrams\n"
   ]
  },
  {
   "cell_type": "code",
   "execution_count": 3,
   "metadata": {},
   "outputs": [],
   "source": [
    "def getVector(word_list, full_word_list):\n",
    "    vector = []\n",
    "    for word in full_word_list:\n",
    "        if word not in word_list:\n",
    "            vector.append(0)\n",
    "        else:\n",
    "            vector.append(word_list[word])\n",
    "    return vector"
   ]
  },
  {
   "cell_type": "code",
   "execution_count": 82,
   "metadata": {},
   "outputs": [
    {
     "data": {
      "text/plain": [
       "'%run \"Lexer.py\"\\nimport sys\\nfrom Lexer import *\\n\\ndef getTokens(filepath):\\n\\n    token_words = []\\n\\n    lexer = Lexer(filepath)\\n    token = lexer.scan()\\n    while token.getTag() != Tag.EOF:\\n        token_words.append(str(token))\\n        token = lexer.scan()\\n    token_words.append(\"END\")\\n\\n    return token_words'"
      ]
     },
     "execution_count": 82,
     "metadata": {},
     "output_type": "execute_result"
    }
   ],
   "source": [
    "\"\"\"%run \"Lexer.py\"\n",
    "import sys\n",
    "from Lexer import *\n",
    "\n",
    "def getTokens(filepath):\n",
    "\n",
    "    token_words = []\n",
    "\n",
    "    lexer = Lexer(filepath)\n",
    "    token = lexer.scan()\n",
    "    while token.getTag() != Tag.EOF:\n",
    "        token_words.append(str(token))\n",
    "        token = lexer.scan()\n",
    "    token_words.append(\"END\")\n",
    "\n",
    "    return token_words\"\"\"\n"
   ]
  },
  {
   "cell_type": "code",
   "execution_count": 4,
   "metadata": {},
   "outputs": [],
   "source": [
    "def cosineSimilarity(word_vectors):\n",
    "    \n",
    "    for i in range(len(word_vectors)):\n",
    "        word_vectors[i] = np.array(word_vectors[i])\n",
    "        \n",
    "    numerator = word_vectors[0]\n",
    "\n",
    "    for i in range(1, len(word_vectors)):\n",
    "        numerator = numerator * word_vectors[i]\n",
    "    \n",
    "    numerator = np.sum(numerator)\n",
    "\n",
    "    denominator = 1\n",
    "\n",
    "    for i in range(len(word_vectors)):\n",
    "        denominator *= np.sqrt(np.sum(word_vectors[i] ** 2))\n",
    "\n",
    "    return numerator / denominator"
   ]
  },
  {
   "cell_type": "code",
   "execution_count": 6,
   "metadata": {},
   "outputs": [],
   "source": [
    "import javalang\n",
    "\n",
    "def getTokens (file):\n",
    "    token_words = []\n",
    "\n",
    "    tokens = list(javalang.tokenizer.tokenize(file))\n",
    "    parser = javalang.parser.Parser(tokens)\n",
    "    \n",
    "    for i in tokens:\n",
    "       token_words.append(type(i).__name__)\n",
    "    \n",
    "    return token_words"
   ]
  },
  {
   "cell_type": "code",
   "execution_count": 7,
   "metadata": {},
   "outputs": [],
   "source": [
    "import javalang\n",
    "\n",
    "def getValues (file):\n",
    "    token_words = []\n",
    "\n",
    "    tokens = list(javalang.tokenizer.tokenize(file))\n",
    "    parser = javalang.parser.Parser(tokens)\n",
    "    \n",
    "    for i in tokens:\n",
    "       token_words.append(i.value)\n",
    "    \n",
    "    return token_words"
   ]
  },
  {
   "cell_type": "code",
   "execution_count": 35,
   "metadata": {},
   "outputs": [],
   "source": [
    "def get_PredictionTokens (file1_string, file2_string):\n",
    "\n",
    "    allNgrams = []\n",
    "\n",
    "    token_words1 = getTokens(file1_string)\n",
    "    token_words2 = getTokens(file2_string)\n",
    "    nGrams1,allNgrams = getNgrams(3,token_words1,allNgrams)\n",
    "    nGrams2,allNgrams = getNgrams(3,token_words2,allNgrams)\n",
    "\n",
    "    vector1 = getVector(nGrams1,allNgrams)\n",
    "    vector2 = getVector(nGrams2,allNgrams)\n",
    "\n",
    "    '''\n",
    "    print(token_words1)\n",
    "    print(token_words2)\n",
    "    \n",
    "    print(\"1: \")\n",
    "    print(nGrams1)\n",
    "    print(\"2: \") \n",
    "    print(nGrams2)\n",
    "    print(\"ALL: \")\n",
    "    print(allNgrams)\n",
    "\n",
    "    print(\"vector1:\")\n",
    "    print(vector1)\n",
    "    print(\"vector2:\")\n",
    "    print(vector2)\n",
    "    '''\n",
    "\n",
    "    return(cosineSimilarity([vector1, vector2]))"
   ]
  },
  {
   "cell_type": "code",
   "execution_count": 44,
   "metadata": {},
   "outputs": [],
   "source": [
    "def get_PredictionValues (file1_string, file2_string):\n",
    "\n",
    "    allNgrams = []\n",
    "\n",
    "    values1 = getValues(file1_string)\n",
    "    values2 = getValues(file2_string)\n",
    "    nGrams1,allNgrams = getNgrams(3,values1,allNgrams)\n",
    "    nGrams2,allNgrams = getNgrams(3,values2,allNgrams)\n",
    "\n",
    "    vector1 = getVector(nGrams1,allNgrams)\n",
    "    vector2 = getVector(nGrams2,allNgrams)\n",
    "\n",
    "    '''\n",
    "    print(\"1: \")\n",
    "    print(nGrams1)\n",
    "    print(\"2: \") \n",
    "    print(nGrams2)\n",
    "    print(\"ALL: \")\n",
    "    print(allNgrams)\n",
    "\n",
    "    print(\"vector1:\")\n",
    "    print(vector1)\n",
    "    print(\"vector2:\")\n",
    "    print(vector2)\n",
    "    '''\n",
    "\n",
    "\n",
    "    return(cosineSimilarity([vector1, vector2]))"
   ]
  },
  {
   "cell_type": "code",
   "execution_count": 59,
   "metadata": {},
   "outputs": [
    {
     "name": "stdout",
     "output_type": "stream",
     "text": [
      "748\n",
      "0.8221925133689839\n"
     ]
    }
   ],
   "source": [
    "df = pd.read_csv('../labels.csv')\n",
    "\n",
    "df['prediction'] = 0\n",
    "df\n",
    "\n",
    "data_path = '../data'\n",
    "train_data_path = os.path.join(data_path, 'Train')\n",
    "java_folder_path = train_data_path + '/*.java'\n",
    "        \n",
    "file_pair_list = []\n",
    "\n",
    "for _, folder_name in enumerate(glob.glob(train_data_path + '/*/')):\n",
    "    file_pair = []\n",
    "    for _, file_name in enumerate(glob.glob(folder_name + '/*.java')):\n",
    "        file_pair.append(file_name)\n",
    "    \n",
    "    file_pair_list.append(file_pair)\n",
    "\n",
    "total = 0\n",
    "correct = 0\n",
    "for file_pair in file_pair_list:\n",
    "    with open(file_pair[0], 'r', encoding = 'utf8') as file1, open(file_pair[1], 'r', encoding = 'utf8') as file2:\n",
    "        file1_name = os.path.basename(file_pair[0])[:-5]\n",
    "        file2_name = os.path.basename(file_pair[1])[:-5]\n",
    "\n",
    "        expected = 1\n",
    "        current_row = df.loc[(df['sub1'] == file1_name) & (df['sub2'] == file2_name)]\n",
    "\n",
    "        if len(current_row) > 0 and current_row.iloc[0]['verdict'] == 0:\n",
    "            expected = 0\n",
    "\n",
    "        file1_string = file1.read()\n",
    "        file2_string = file2.read()\n",
    "        \n",
    "        #print(file1_name, file2_name)\n",
    "        prediction = get_PredictionValues(file1_string, file2_string)\n",
    "        #print(prediction, expected)\n",
    "        if prediction > 0:\n",
    "            #print(prediction, expected)\n",
    "            if (prediction >= 0.7 and expected == 1) or (prediction < 0.7 and expected == 0):\n",
    "                correct += 1\n",
    "\n",
    "            total += 1\n",
    "\n",
    "print(total)\n",
    "print(correct/total)"
   ]
  }
 ],
 "metadata": {
  "kernelspec": {
   "display_name": "Python 3",
   "language": "python",
   "name": "python3"
  },
  "language_info": {
   "codemirror_mode": {
    "name": "ipython",
    "version": 3
   },
   "file_extension": ".py",
   "mimetype": "text/x-python",
   "name": "python",
   "nbconvert_exporter": "python",
   "pygments_lexer": "ipython3",
   "version": "3.11.4"
  }
 },
 "nbformat": 4,
 "nbformat_minor": 2
}
